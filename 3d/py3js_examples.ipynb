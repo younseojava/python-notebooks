{
 "cells": [
  {
   "cell_type": "markdown",
   "id": "8e4f7a1c-531b-4326-a9f0-4c8344319feb",
   "metadata": {},
   "source": [
    "# ThreeJS on Jupyter Notebook"
   ]
  },
  {
   "cell_type": "code",
   "execution_count": 1,
   "id": "d7197e0c-8ef2-4eb8-b8ca-8d971f2dff30",
   "metadata": {
    "tags": []
   },
   "outputs": [
    {
     "name": "stdout",
     "output_type": "stream",
     "text": [
      "Defaulting to user installation because normal site-packages is not writeable\n",
      "Requirement already satisfied: pythreejs in /mnt/beegfs/home/yroh/.local/lib/python3.8/site-packages (2.4.1)\n",
      "Requirement already satisfied: ipywidgets>=7.2.1 in /mnt/beegfs/home/yroh/.local/lib/python3.8/site-packages (from pythreejs) (7.7.2)\n",
      "Requirement already satisfied: numpy in /mnt/beegfs/home/yroh/.local/lib/python3.8/site-packages (from pythreejs) (1.23.2)\n",
      "Requirement already satisfied: ipydatawidgets>=1.1.1 in /mnt/beegfs/home/yroh/.local/lib/python3.8/site-packages (from pythreejs) (4.3.2)\n",
      "Requirement already satisfied: traitlets in /mnt/beegfs/home/yroh/.local/lib/python3.8/site-packages (from pythreejs) (5.5.0)\n",
      "Requirement already satisfied: traittypes>=0.2.0 in /mnt/beegfs/home/yroh/.local/lib/python3.8/site-packages (from ipydatawidgets>=1.1.1->pythreejs) (0.2.1)\n",
      "Requirement already satisfied: ipykernel>=4.5.1 in /mnt/beegfs/home/yroh/.local/lib/python3.8/site-packages (from ipywidgets>=7.2.1->pythreejs) (6.17.0)\n",
      "Requirement already satisfied: ipython>=4.0.0 in /mnt/beegfs/home/yroh/.local/lib/python3.8/site-packages (from ipywidgets>=7.2.1->pythreejs) (8.6.0)\n",
      "Requirement already satisfied: widgetsnbextension~=3.6.0 in /mnt/beegfs/home/yroh/.local/lib/python3.8/site-packages (from ipywidgets>=7.2.1->pythreejs) (3.6.1)\n",
      "Requirement already satisfied: jupyterlab-widgets<3,>=1.0.0 in /mnt/beegfs/home/yroh/.local/lib/python3.8/site-packages (from ipywidgets>=7.2.1->pythreejs) (1.1.1)\n",
      "Requirement already satisfied: ipython-genutils~=0.2.0 in /mnt/beegfs/home/yroh/.local/lib/python3.8/site-packages (from ipywidgets>=7.2.1->pythreejs) (0.2.0)\n",
      "Requirement already satisfied: debugpy>=1.0 in /mnt/beegfs/home/yroh/.local/lib/python3.8/site-packages (from ipykernel>=4.5.1->ipywidgets>=7.2.1->pythreejs) (1.6.3)\n",
      "Requirement already satisfied: jupyter-client>=6.1.12 in /mnt/beegfs/home/yroh/.local/lib/python3.8/site-packages (from ipykernel>=4.5.1->ipywidgets>=7.2.1->pythreejs) (7.4.4)\n",
      "Requirement already satisfied: tornado>=6.1 in /mnt/beegfs/home/yroh/.local/lib/python3.8/site-packages (from ipykernel>=4.5.1->ipywidgets>=7.2.1->pythreejs) (6.2)\n",
      "Requirement already satisfied: packaging in /mnt/beegfs/home/yroh/.local/lib/python3.8/site-packages (from ipykernel>=4.5.1->ipywidgets>=7.2.1->pythreejs) (21.3)\n",
      "Requirement already satisfied: matplotlib-inline>=0.1 in /mnt/beegfs/home/yroh/.local/lib/python3.8/site-packages (from ipykernel>=4.5.1->ipywidgets>=7.2.1->pythreejs) (0.1.6)\n",
      "Requirement already satisfied: psutil in /mnt/beegfs/home/yroh/.local/lib/python3.8/site-packages (from ipykernel>=4.5.1->ipywidgets>=7.2.1->pythreejs) (5.9.3)\n",
      "Requirement already satisfied: pyzmq>=17 in /mnt/beegfs/home/yroh/.local/lib/python3.8/site-packages (from ipykernel>=4.5.1->ipywidgets>=7.2.1->pythreejs) (24.0.1)\n",
      "Requirement already satisfied: nest-asyncio in /mnt/beegfs/home/yroh/.local/lib/python3.8/site-packages (from ipykernel>=4.5.1->ipywidgets>=7.2.1->pythreejs) (1.5.6)\n",
      "Requirement already satisfied: backcall in /mnt/beegfs/home/yroh/.local/lib/python3.8/site-packages (from ipython>=4.0.0->ipywidgets>=7.2.1->pythreejs) (0.2.0)\n",
      "Requirement already satisfied: stack-data in /mnt/beegfs/home/yroh/.local/lib/python3.8/site-packages (from ipython>=4.0.0->ipywidgets>=7.2.1->pythreejs) (0.6.0)\n",
      "Requirement already satisfied: decorator in /mnt/beegfs/home/yroh/.local/lib/python3.8/site-packages (from ipython>=4.0.0->ipywidgets>=7.2.1->pythreejs) (5.1.1)\n",
      "Requirement already satisfied: prompt-toolkit<3.1.0,>3.0.1 in /mnt/beegfs/home/yroh/.local/lib/python3.8/site-packages (from ipython>=4.0.0->ipywidgets>=7.2.1->pythreejs) (3.0.32)\n",
      "Requirement already satisfied: pygments>=2.4.0 in /mnt/beegfs/home/yroh/.local/lib/python3.8/site-packages (from ipython>=4.0.0->ipywidgets>=7.2.1->pythreejs) (2.13.0)\n",
      "Requirement already satisfied: pickleshare in /mnt/beegfs/home/yroh/.local/lib/python3.8/site-packages (from ipython>=4.0.0->ipywidgets>=7.2.1->pythreejs) (0.7.5)\n",
      "Requirement already satisfied: jedi>=0.16 in /mnt/beegfs/home/yroh/.local/lib/python3.8/site-packages (from ipython>=4.0.0->ipywidgets>=7.2.1->pythreejs) (0.18.1)\n",
      "Requirement already satisfied: pexpect>4.3 in /usr/lib/python3/dist-packages (from ipython>=4.0.0->ipywidgets>=7.2.1->pythreejs) (4.6.0)\n",
      "Requirement already satisfied: notebook>=4.4.1 in /mnt/beegfs/home/yroh/.local/lib/python3.8/site-packages (from widgetsnbextension~=3.6.0->ipywidgets>=7.2.1->pythreejs) (6.5.2)\n",
      "Requirement already satisfied: parso<0.9.0,>=0.8.0 in /mnt/beegfs/home/yroh/.local/lib/python3.8/site-packages (from jedi>=0.16->ipython>=4.0.0->ipywidgets>=7.2.1->pythreejs) (0.8.3)\n",
      "Requirement already satisfied: python-dateutil>=2.8.2 in /mnt/beegfs/home/yroh/.local/lib/python3.8/site-packages (from jupyter-client>=6.1.12->ipykernel>=4.5.1->ipywidgets>=7.2.1->pythreejs) (2.8.2)\n",
      "Requirement already satisfied: jupyter-core>=4.9.2 in /mnt/beegfs/home/yroh/.local/lib/python3.8/site-packages (from jupyter-client>=6.1.12->ipykernel>=4.5.1->ipywidgets>=7.2.1->pythreejs) (4.11.2)\n",
      "Requirement already satisfied: entrypoints in /usr/lib/python3/dist-packages (from jupyter-client>=6.1.12->ipykernel>=4.5.1->ipywidgets>=7.2.1->pythreejs) (0.3)\n",
      "Requirement already satisfied: nbconvert>=5 in /mnt/beegfs/home/yroh/.local/lib/python3.8/site-packages (from notebook>=4.4.1->widgetsnbextension~=3.6.0->ipywidgets>=7.2.1->pythreejs) (7.2.3)\n",
      "Requirement already satisfied: argon2-cffi in /mnt/beegfs/home/yroh/.local/lib/python3.8/site-packages (from notebook>=4.4.1->widgetsnbextension~=3.6.0->ipywidgets>=7.2.1->pythreejs) (21.3.0)\n",
      "Requirement already satisfied: nbformat in /mnt/beegfs/home/yroh/.local/lib/python3.8/site-packages (from notebook>=4.4.1->widgetsnbextension~=3.6.0->ipywidgets>=7.2.1->pythreejs) (5.7.0)\n",
      "Requirement already satisfied: jinja2 in /mnt/beegfs/home/yroh/.local/lib/python3.8/site-packages (from notebook>=4.4.1->widgetsnbextension~=3.6.0->ipywidgets>=7.2.1->pythreejs) (3.1.2)\n",
      "Requirement already satisfied: prometheus-client in /mnt/beegfs/home/yroh/.local/lib/python3.8/site-packages (from notebook>=4.4.1->widgetsnbextension~=3.6.0->ipywidgets>=7.2.1->pythreejs) (0.15.0)\n",
      "Requirement already satisfied: nbclassic>=0.4.7 in /mnt/beegfs/home/yroh/.local/lib/python3.8/site-packages (from notebook>=4.4.1->widgetsnbextension~=3.6.0->ipywidgets>=7.2.1->pythreejs) (0.4.8)\n",
      "Requirement already satisfied: terminado>=0.8.3 in /mnt/beegfs/home/yroh/.local/lib/python3.8/site-packages (from notebook>=4.4.1->widgetsnbextension~=3.6.0->ipywidgets>=7.2.1->pythreejs) (0.17.0)\n",
      "Requirement already satisfied: Send2Trash>=1.8.0 in /mnt/beegfs/home/yroh/.local/lib/python3.8/site-packages (from notebook>=4.4.1->widgetsnbextension~=3.6.0->ipywidgets>=7.2.1->pythreejs) (1.8.0)\n",
      "Requirement already satisfied: wcwidth in /mnt/beegfs/home/yroh/.local/lib/python3.8/site-packages (from prompt-toolkit<3.1.0,>3.0.1->ipython>=4.0.0->ipywidgets>=7.2.1->pythreejs) (0.2.5)\n",
      "Requirement already satisfied: pyparsing!=3.0.5,>=2.0.2 in /mnt/beegfs/home/yroh/.local/lib/python3.8/site-packages (from packaging->ipykernel>=4.5.1->ipywidgets>=7.2.1->pythreejs) (3.0.9)\n",
      "Requirement already satisfied: asttokens>=2.1.0 in /mnt/beegfs/home/yroh/.local/lib/python3.8/site-packages (from stack-data->ipython>=4.0.0->ipywidgets>=7.2.1->pythreejs) (2.1.0)\n",
      "Requirement already satisfied: executing>=1.2.0 in /mnt/beegfs/home/yroh/.local/lib/python3.8/site-packages (from stack-data->ipython>=4.0.0->ipywidgets>=7.2.1->pythreejs) (1.2.0)\n",
      "Requirement already satisfied: pure-eval in /mnt/beegfs/home/yroh/.local/lib/python3.8/site-packages (from stack-data->ipython>=4.0.0->ipywidgets>=7.2.1->pythreejs) (0.2.2)\n",
      "Requirement already satisfied: six in /usr/lib/python3/dist-packages (from asttokens>=2.1.0->stack-data->ipython>=4.0.0->ipywidgets>=7.2.1->pythreejs) (1.14.0)\n",
      "Requirement already satisfied: jupyter-server>=1.8 in /mnt/beegfs/home/yroh/.local/lib/python3.8/site-packages (from nbclassic>=0.4.7->notebook>=4.4.1->widgetsnbextension~=3.6.0->ipywidgets>=7.2.1->pythreejs) (1.21.0)\n",
      "Requirement already satisfied: notebook-shim>=0.1.0 in /mnt/beegfs/home/yroh/.local/lib/python3.8/site-packages (from nbclassic>=0.4.7->notebook>=4.4.1->widgetsnbextension~=3.6.0->ipywidgets>=7.2.1->pythreejs) (0.2.2)\n",
      "Requirement already satisfied: beautifulsoup4 in /mnt/beegfs/home/yroh/.local/lib/python3.8/site-packages (from nbconvert>=5->notebook>=4.4.1->widgetsnbextension~=3.6.0->ipywidgets>=7.2.1->pythreejs) (4.11.1)\n",
      "Requirement already satisfied: bleach in /mnt/beegfs/home/yroh/.local/lib/python3.8/site-packages (from nbconvert>=5->notebook>=4.4.1->widgetsnbextension~=3.6.0->ipywidgets>=7.2.1->pythreejs) (5.0.1)\n",
      "Requirement already satisfied: pandocfilters>=1.4.1 in /mnt/beegfs/home/yroh/.local/lib/python3.8/site-packages (from nbconvert>=5->notebook>=4.4.1->widgetsnbextension~=3.6.0->ipywidgets>=7.2.1->pythreejs) (1.5.0)\n",
      "Requirement already satisfied: jupyterlab-pygments in /mnt/beegfs/home/yroh/.local/lib/python3.8/site-packages (from nbconvert>=5->notebook>=4.4.1->widgetsnbextension~=3.6.0->ipywidgets>=7.2.1->pythreejs) (0.2.2)\n",
      "Requirement already satisfied: tinycss2 in /mnt/beegfs/home/yroh/.local/lib/python3.8/site-packages (from nbconvert>=5->notebook>=4.4.1->widgetsnbextension~=3.6.0->ipywidgets>=7.2.1->pythreejs) (1.2.1)\n",
      "Requirement already satisfied: mistune<3,>=2.0.3 in /mnt/beegfs/home/yroh/.local/lib/python3.8/site-packages (from nbconvert>=5->notebook>=4.4.1->widgetsnbextension~=3.6.0->ipywidgets>=7.2.1->pythreejs) (2.0.4)\n",
      "Requirement already satisfied: nbclient>=0.5.0 in /mnt/beegfs/home/yroh/.local/lib/python3.8/site-packages (from nbconvert>=5->notebook>=4.4.1->widgetsnbextension~=3.6.0->ipywidgets>=7.2.1->pythreejs) (0.7.0)\n",
      "Requirement already satisfied: defusedxml in /mnt/beegfs/home/yroh/.local/lib/python3.8/site-packages (from nbconvert>=5->notebook>=4.4.1->widgetsnbextension~=3.6.0->ipywidgets>=7.2.1->pythreejs) (0.7.1)\n",
      "Requirement already satisfied: importlib-metadata>=3.6 in /mnt/beegfs/home/yroh/.local/lib/python3.8/site-packages (from nbconvert>=5->notebook>=4.4.1->widgetsnbextension~=3.6.0->ipywidgets>=7.2.1->pythreejs) (5.0.0)\n",
      "Requirement already satisfied: markupsafe>=2.0 in /mnt/beegfs/home/yroh/.local/lib/python3.8/site-packages (from nbconvert>=5->notebook>=4.4.1->widgetsnbextension~=3.6.0->ipywidgets>=7.2.1->pythreejs) (2.1.1)\n",
      "Requirement already satisfied: fastjsonschema in /mnt/beegfs/home/yroh/.local/lib/python3.8/site-packages (from nbformat->notebook>=4.4.1->widgetsnbextension~=3.6.0->ipywidgets>=7.2.1->pythreejs) (2.16.2)\n",
      "Requirement already satisfied: jsonschema>=2.6 in /mnt/beegfs/home/yroh/.local/lib/python3.8/site-packages (from nbformat->notebook>=4.4.1->widgetsnbextension~=3.6.0->ipywidgets>=7.2.1->pythreejs) (4.17.3)\n",
      "Requirement already satisfied: ptyprocess in /mnt/beegfs/home/yroh/.local/lib/python3.8/site-packages (from terminado>=0.8.3->notebook>=4.4.1->widgetsnbextension~=3.6.0->ipywidgets>=7.2.1->pythreejs) (0.7.0)\n",
      "Requirement already satisfied: argon2-cffi-bindings in /mnt/beegfs/home/yroh/.local/lib/python3.8/site-packages (from argon2-cffi->notebook>=4.4.1->widgetsnbextension~=3.6.0->ipywidgets>=7.2.1->pythreejs) (21.2.0)\n",
      "Requirement already satisfied: zipp>=0.5 in /mnt/beegfs/home/yroh/.local/lib/python3.8/site-packages (from importlib-metadata>=3.6->nbconvert>=5->notebook>=4.4.1->widgetsnbextension~=3.6.0->ipywidgets>=7.2.1->pythreejs) (3.11.0)\n",
      "Requirement already satisfied: pkgutil-resolve-name>=1.3.10 in /mnt/beegfs/home/yroh/.local/lib/python3.8/site-packages (from jsonschema>=2.6->nbformat->notebook>=4.4.1->widgetsnbextension~=3.6.0->ipywidgets>=7.2.1->pythreejs) (1.3.10)\n",
      "Requirement already satisfied: attrs>=17.4.0 in /usr/lib/python3/dist-packages (from jsonschema>=2.6->nbformat->notebook>=4.4.1->widgetsnbextension~=3.6.0->ipywidgets>=7.2.1->pythreejs) (19.3.0)\n",
      "Requirement already satisfied: importlib-resources>=1.4.0 in /mnt/beegfs/home/yroh/.local/lib/python3.8/site-packages (from jsonschema>=2.6->nbformat->notebook>=4.4.1->widgetsnbextension~=3.6.0->ipywidgets>=7.2.1->pythreejs) (5.10.2)\n",
      "Requirement already satisfied: pyrsistent!=0.17.0,!=0.17.1,!=0.17.2,>=0.14.0 in /usr/lib/python3/dist-packages (from jsonschema>=2.6->nbformat->notebook>=4.4.1->widgetsnbextension~=3.6.0->ipywidgets>=7.2.1->pythreejs) (0.15.5)\n",
      "Requirement already satisfied: anyio<4,>=3.1.0 in /mnt/beegfs/home/yroh/.local/lib/python3.8/site-packages (from jupyter-server>=1.8->nbclassic>=0.4.7->notebook>=4.4.1->widgetsnbextension~=3.6.0->ipywidgets>=7.2.1->pythreejs) (3.6.2)\n",
      "Requirement already satisfied: websocket-client in /mnt/beegfs/home/yroh/.local/lib/python3.8/site-packages (from jupyter-server>=1.8->nbclassic>=0.4.7->notebook>=4.4.1->widgetsnbextension~=3.6.0->ipywidgets>=7.2.1->pythreejs) (1.4.1)\n",
      "Requirement already satisfied: cffi>=1.0.1 in /mnt/beegfs/home/yroh/.local/lib/python3.8/site-packages (from argon2-cffi-bindings->argon2-cffi->notebook>=4.4.1->widgetsnbextension~=3.6.0->ipywidgets>=7.2.1->pythreejs) (1.15.1)\n",
      "Requirement already satisfied: soupsieve>1.2 in /mnt/beegfs/home/yroh/.local/lib/python3.8/site-packages (from beautifulsoup4->nbconvert>=5->notebook>=4.4.1->widgetsnbextension~=3.6.0->ipywidgets>=7.2.1->pythreejs) (2.3.2.post1)\n",
      "Requirement already satisfied: webencodings in /mnt/beegfs/home/yroh/.local/lib/python3.8/site-packages (from bleach->nbconvert>=5->notebook>=4.4.1->widgetsnbextension~=3.6.0->ipywidgets>=7.2.1->pythreejs) (0.5.1)\n",
      "Requirement already satisfied: idna>=2.8 in /usr/lib/python3/dist-packages (from anyio<4,>=3.1.0->jupyter-server>=1.8->nbclassic>=0.4.7->notebook>=4.4.1->widgetsnbextension~=3.6.0->ipywidgets>=7.2.1->pythreejs) (2.8)\n",
      "Requirement already satisfied: sniffio>=1.1 in /mnt/beegfs/home/yroh/.local/lib/python3.8/site-packages (from anyio<4,>=3.1.0->jupyter-server>=1.8->nbclassic>=0.4.7->notebook>=4.4.1->widgetsnbextension~=3.6.0->ipywidgets>=7.2.1->pythreejs) (1.3.0)\n",
      "Requirement already satisfied: pycparser in /mnt/beegfs/home/yroh/.local/lib/python3.8/site-packages (from cffi>=1.0.1->argon2-cffi-bindings->argon2-cffi->notebook>=4.4.1->widgetsnbextension~=3.6.0->ipywidgets>=7.2.1->pythreejs) (2.21)\n"
     ]
    }
   ],
   "source": [
    "!pip install pythreejs"
   ]
  },
  {
   "cell_type": "code",
   "execution_count": 2,
   "id": "a3aa94a0-fd9e-4b0e-aa50-9d5b40de189d",
   "metadata": {},
   "outputs": [
    {
     "name": "stdout",
     "output_type": "stream",
     "text": [
      "JupyterLab v3.5.2\n",
      "/mnt/beegfs/home/yroh/.local/share/jupyter/labextensions\n",
      "        jupyter-threejs v2.4.0 \u001b[32menabled\u001b[0m \u001b[32mOK\u001b[0m (python, pythreejs)\n",
      "        jupyter-leaflet v0.17.2 \u001b[32menabled\u001b[0m \u001b[32mOK\u001b[0m\n",
      "        jupyterlab-datawidgets v7.1.2 \u001b[32menabled\u001b[0m \u001b[32mOK\u001b[0m\n",
      "        jupyterlab-plotly v5.10.0 \u001b[32menabled\u001b[0m \u001b[32mOK\u001b[0m\n",
      "        jupyterlab_pygments v0.2.2 \u001b[32menabled\u001b[0m \u001b[32mOK\u001b[0m (python, jupyterlab_pygments)\n",
      "        @jupyter-widgets/jupyterlab-manager v3.1.1 \u001b[32menabled\u001b[0m \u001b[32mOK\u001b[0m (python, jupyterlab_widgets)\n",
      "\n",
      "Other labextensions (built into JupyterLab)\n",
      "   app dir: /mnt/beegfs/home/yroh/.local/share/jupyter/lab\n",
      "\n"
     ]
    }
   ],
   "source": [
    "!jupyter labextension list"
   ]
  },
  {
   "cell_type": "code",
   "execution_count": 3,
   "id": "30ac254b-1e22-403c-be57-41b3a6b03b68",
   "metadata": {},
   "outputs": [
    {
     "name": "stdout",
     "output_type": "stream",
     "text": [
      "ipywidgets==7.7.2\n"
     ]
    }
   ],
   "source": [
    "!pip freeze | grep ipywidgets"
   ]
  },
  {
   "cell_type": "code",
   "execution_count": 4,
   "id": "4bf2cd2b-2ad2-408d-bb6d-af36d331185a",
   "metadata": {},
   "outputs": [
    {
     "data": {
      "application/vnd.jupyter.widget-view+json": {
       "model_id": "299ef966cae9482fbae53e8971051735",
       "version_major": 2,
       "version_minor": 0
      },
      "text/plain": [
       "IntSlider(value=0)"
      ]
     },
     "metadata": {},
     "output_type": "display_data"
    }
   ],
   "source": [
    "import ipywidgets as wg\n",
    "val = wg.IntSlider()\n",
    "val"
   ]
  },
  {
   "cell_type": "code",
   "execution_count": 5,
   "id": "15c05915-a5ce-4ccb-8f0e-6fee9807e6bd",
   "metadata": {},
   "outputs": [],
   "source": [
    "from pythreejs import *\n",
    "import numpy as np\n",
    "from IPython.display import display\n",
    "from ipywidgets import HTML, Text, Output, VBox\n",
    "from traitlets import link, dlink"
   ]
  },
  {
   "cell_type": "markdown",
   "id": "a2262dd7-95c5-431b-9448-610e1b35248a",
   "metadata": {},
   "source": [
    "## Simple Sphere and Text"
   ]
  },
  {
   "cell_type": "code",
   "execution_count": 7,
   "id": "d4212cfd-4048-44bd-a36b-4f92abaaad9f",
   "metadata": {},
   "outputs": [
    {
     "data": {
      "application/vnd.jupyter.widget-view+json": {
       "model_id": "6e5b7a1a43e4454c9b949457ca44ccac",
       "version_major": 2,
       "version_minor": 0
      },
      "text/plain": [
       "Renderer(camera=PerspectiveCamera(children=(DirectionalLight(color='white', intensity=0.5, position=(3.0, 5.0,…"
      ]
     },
     "metadata": {},
     "output_type": "display_data"
    }
   ],
   "source": [
    "ball = Mesh(geometry=SphereGeometry(radius=1, widthSegments=32, heightSegments=24),\n",
    "            material=MeshLambertMaterial(color='blue'),\n",
    "            position=[2, 1, 0])\n",
    "\n",
    "c = PerspectiveCamera(position=[0, 5, 5], up=[0, 1, 0],\n",
    "                      children=[DirectionalLight(color='white', position=[3, 5, 1], intensity=0.5)])\n",
    "\n",
    "scene = Scene(children=[ball, c, AmbientLight(color='#777777')])\n",
    "\n",
    "renderer = Renderer(camera=c, scene=scene, controls=[OrbitControls(controlling=c)])\n",
    "\n",
    "display(renderer)"
   ]
  },
  {
   "cell_type": "code",
   "execution_count": 9,
   "id": "f159f0b8-c0e1-4cbe-babe-c4034b9d85ee",
   "metadata": {},
   "outputs": [],
   "source": [
    "ball.scale = (0.5,) * 3"
   ]
  },
  {
   "cell_type": "code",
   "execution_count": 14,
   "id": "71a7edc7-704c-4507-9516-f5f3e40ee349",
   "metadata": {},
   "outputs": [],
   "source": [
    "import time, math\n",
    "ball.material.color = '#4400dd'\n",
    "for i in range(1, 150, 2):\n",
    "    ball.scale = (i / 100.,) * 3\n",
    "    ball.position = [math.cos(i / 10.), math.sin(i / 50.), i / 100.]\n",
    "    time.sleep(.05)\n"
   ]
  },
  {
   "cell_type": "markdown",
   "id": "730fc8a7-3817-4d79-9a26-414fd02f1aa1",
   "metadata": {},
   "source": [
    "## Clickable Surface"
   ]
  },
  {
   "cell_type": "code",
   "execution_count": 21,
   "id": "97c9e067-9ea3-42c5-a40f-ea460d645c70",
   "metadata": {},
   "outputs": [
    {
     "data": {
      "application/vnd.jupyter.widget-view+json": {
       "model_id": "a9db86b778d043febba7cce8ce5fc8b6",
       "version_major": 2,
       "version_minor": 0
      },
      "text/plain": [
       "VBox(children=(HTML(value='Green point at (0.000, 0.000, 0.000)'), Renderer(camera=PerspectiveCamera(aspect=1.…"
      ]
     },
     "metadata": {},
     "output_type": "display_data"
    }
   ],
   "source": [
    "# generate surface data\n",
    "view_width = 600\n",
    "view_height = 400\n",
    "nx, ny = (24, 20)\n",
    "xmax = 1\n",
    "x = np.linspace(-xmax, xmax, nx)\n",
    "y = np.linspace(-xmax, xmax, ny)\n",
    "xx, yy = np.meshgrid(x, y)\n",
    "z = xx**2 - yy**2\n",
    "#z[6,1] = float('nan')\n",
    "\n",
    "# Generate scene objects from data:\n",
    "surf_g = SurfaceGeometry(z=list(z.flat),\n",
    "                         width=2 * xmax,\n",
    "                         height=2 * xmax,\n",
    "                         width_segments=nx - 1,\n",
    "                         height_segments=ny - 1)\n",
    "\n",
    "surf = Mesh(geometry=surf_g,\n",
    "            material=MeshLambertMaterial(map=height_texture(z, 'YlGnBu_r')))\n",
    "\n",
    "surfgrid = SurfaceGrid(geometry=surf_g,\n",
    "                       material=LineBasicMaterial(color='black'),\n",
    "                       position=[0, 0, 1e-2])  # avoid overlap by lifting grid slightly\n",
    "\n",
    "# Set up picking objects\n",
    "hover_point = Mesh(geometry=SphereGeometry(radius=0.05),\n",
    "                   material=MeshLambertMaterial(color='hotpink'))\n",
    "\n",
    "click_picker = Picker(controlling=surf, event='dblclick')\n",
    "hover_picker = Picker(controlling=surf, event='mousemove')\n",
    "\n",
    "# Set up scene:\n",
    "key_light = DirectionalLight(color='white', position=[3, 5, 1], intensity=0.4)\n",
    "c = PerspectiveCamera(position=[0, 3, 3], up=[0, 0, 1], aspect=view_width / view_height,\n",
    "                      children=[key_light])\n",
    "scene = Scene(children=[surf, c, surfgrid, hover_point, AmbientLight(intensity=0.8)])\n",
    "renderer = Renderer(camera=c, scene=scene, width=view_width, height=view_height,\n",
    "                    controls=[OrbitControls(controlling=c), click_picker, hover_picker])\n",
    "\n",
    "# Set up picking responses:\n",
    "# Add a new marker when double-clicking:\n",
    "out = Output()\n",
    "def f(change):\n",
    "    value = change['new']\n",
    "    with out:\n",
    "        print(f'Clicked on {(value,)}')\n",
    "    point = Mesh(geometry=SphereGeometry(radius=0.05),\n",
    "                 material=MeshLambertMaterial(color='red'),\n",
    "                 position=value)\n",
    "    scene.add(point)\n",
    "    \n",
    "click_picker.observe(f, names=['point'])\n",
    "\n",
    "# Have marker follow picker point:\n",
    "link((hover_point, 'position'), (hover_picker, 'point'))\n",
    "\n",
    "# Show picker point coordinates as a label:\n",
    "h = HTML()\n",
    "def g(change):\n",
    "    c = change['new']\n",
    "    h.value = f'Green point at ({c[0]:.3f}, {c[1]:.3f}, {c[2]:.3f})'\n",
    "\n",
    "g({'new': hover_point.position})\n",
    "hover_picker.observe(g, names=['point'])\n",
    "\n",
    "display(VBox([h, renderer, out]))"
   ]
  },
  {
   "cell_type": "code",
   "execution_count": 22,
   "id": "81227acb-74a3-432e-bd71-169bf3c2b764",
   "metadata": {},
   "outputs": [],
   "source": [
    "surf_g.z = list((-z).flat)\n",
    "surf.material.map = height_texture(-z)"
   ]
  },
  {
   "cell_type": "markdown",
   "id": "16dd6cbe-45fc-4521-b521-3781b714a0c9",
   "metadata": {},
   "source": [
    "## Design our own texture"
   ]
  },
  {
   "cell_type": "code",
   "execution_count": 26,
   "id": "62c0d369-c051-4e13-b02e-405356b4098b",
   "metadata": {},
   "outputs": [
    {
     "data": {
      "application/vnd.jupyter.widget-view+json": {
       "model_id": "b7ec45f63aab4513a11408e275516122",
       "version_major": 2,
       "version_minor": 0
      },
      "text/plain": [
       "Renderer(camera=PerspectiveCamera(children=(DirectionalLight(intensity=0.5, position=(3.0, 5.0, 1.0), quaterni…"
      ]
     },
     "metadata": {},
     "output_type": "display_data"
    }
   ],
   "source": [
    "import numpy as np\n",
    "from scipy import ndimage\n",
    "import matplotlib\n",
    "import matplotlib.pyplot as plt\n",
    "from skimage import img_as_ubyte\n",
    "\n",
    "jet = matplotlib.cm.get_cmap('jet')\n",
    "\n",
    "np.random.seed(int(1))\n",
    "n = int(5)     # starting points\n",
    "size = int(32) # size of image\n",
    "im = np.zeros((size, size))   # create zero image\n",
    "points = size * np.random.random((2, n**2))   # locations of seed values\n",
    "im[(points[0]).astype(np.int32), (points[1]).astype(np.int32)] = size   # seed high values\n",
    "im = ndimage.gaussian_filter(im, sigma=size/(float(4)*n))               # smooth high values into surrounding areas\n",
    "im *= 1 / np.max(im)                                                    # rescale to be in [0, 1]\n",
    "rgba_im = img_as_ubyte(jet(im))                                         # convert values to rgba image using jet colormap\n",
    "\n",
    "t = DataTexture(data=rgba_im, format='RGBAFormat', width=size, height=size)\n",
    "\n",
    "geometry = TorusKnotGeometry(radius=2, radialSegments=200) #SphereGeometry(radius=1, widthSegments=16, heightSegments=10)\n",
    "material = MeshLambertMaterial(map=t)\n",
    "\n",
    "myobject = Mesh(geometry=geometry, material=material)\n",
    "c = PerspectiveCamera(position=[0, 3, 3], fov=40,\n",
    "                      children=[DirectionalLight(color='#ffffff',\n",
    "                                                 position=[3, 5, 1],\n",
    "                                                 intensity=0.5)])\n",
    "scene = Scene(children=[myobject, c, AmbientLight(color='#777777')])\n",
    "\n",
    "renderer = Renderer(camera=c, scene=scene, controls=[OrbitControls(controlling=c)],\n",
    "                    width=400, height=400)\n",
    "\n",
    "display(renderer)\n"
   ]
  },
  {
   "cell_type": "markdown",
   "id": "a267d0b4-da4c-48a2-ae22-f66e6d9ddb07",
   "metadata": {},
   "source": [
    "## Lines"
   ]
  },
  {
   "cell_type": "code",
   "execution_count": 35,
   "id": "e0bad1e5-e937-4988-9c1f-b7b02458ca8b",
   "metadata": {},
   "outputs": [
    {
     "data": {
      "application/vnd.jupyter.widget-view+json": {
       "model_id": "b85e581d33df49b98a864edeb07a5022",
       "version_major": 2,
       "version_minor": 0
      },
      "text/plain": [
       "Renderer(camera=PerspectiveCamera(position=(10.0, 10.0, 10.0), projectionMatrix=(1.0, 0.0, 0.0, 0.0, 0.0, 1.0,…"
      ]
     },
     "metadata": {},
     "output_type": "display_data"
    }
   ],
   "source": [
    "# On windows, linewidth of the material has no effect\n",
    "size = 4\n",
    "linesgeom = Geometry(vertices=[[0, 0, 0], [size, 0, 0], [0, 0, 0], [0, size, 0], [0, 0, 0], [0, 0, size*2]],\n",
    "                     colors=['red', 'red', 'green', 'green', 'white', 'orange'])\n",
    "lines = Line(geometry=linesgeom,\n",
    "             material=LineBasicMaterial(linewidth=5, vertexColors='VertexColors'),\n",
    "             type='LinePieces',\n",
    "            )\n",
    "scene = Scene(children=[lines,\n",
    "                        DirectionalLight(color='#ccaabb', position=[0, 10, 0]),\n",
    "                        AmbientLight(color='#cccccc'),\n",
    "                       ])\n",
    "c = PerspectiveCamera(position=[10, 10, 10])\n",
    "renderer = Renderer(camera=c, background='black', background_opacity=1, scene=scene,\n",
    "                    controls=[OrbitControls(controlling=c)], width=400, height=400)\n",
    "display(renderer)"
   ]
  },
  {
   "cell_type": "markdown",
   "id": "bdb414df-329d-4a53-a37b-3e536a074d62",
   "metadata": {},
   "source": [
    "## Parametric Functions"
   ]
  },
  {
   "cell_type": "markdown",
   "id": "de03cf29-5010-42e8-a078-145212ffec7a",
   "metadata": {},
   "source": [
    "To use the ParametricGeometry class, you need to specify a **javascript function** as a string. The function should take two parameters that vary between 0 and 1, and a `THREE.Vector3(x,y,z)` that should be modified in place.\n",
    "\n",
    "If you want to build the surface in Python, you'll need to explicitly construct the vertices and faces and build a basic geometry from the vertices and faces."
   ]
  },
  {
   "cell_type": "code",
   "execution_count": 52,
   "id": "8793df50-4d3a-4f09-a220-e97905f797fc",
   "metadata": {},
   "outputs": [
    {
     "data": {
      "application/vnd.jupyter.widget-view+json": {
       "model_id": "6e358feb64664490b3b8e8f5792e1ed8",
       "version_major": 2,
       "version_minor": 0
      },
      "text/plain": [
       "Renderer(camera=PerspectiveCamera(children=(DirectionalLight(color='white', intensity=0.8, position=(3.0, 5.0,…"
      ]
     },
     "metadata": {},
     "output_type": "display_data"
    }
   ],
   "source": [
    "f = '''\n",
    "function f(origu, origv, out) {\n",
    "    // scale u and v to the ranges I want: [0, 2*pi]\n",
    "    var u = 2 * Math.PI * origu;\n",
    "    var v = 2 * Math.PI * origv;\n",
    "    \n",
    "    var x = Math.sin(u);\n",
    "    var y = Math.cos(v);\n",
    "    var z = Math.cos(u + 3 * v);\n",
    "    \n",
    "    out.set(x, y, z);\n",
    "}\n",
    "'''\n",
    "surf_g = ParametricGeometry(func=f, slices=64, stacks=64)\n",
    "\n",
    "surf = Mesh(geometry=surf_g,\n",
    "            material=MeshLambertMaterial(color='green', side='FrontSide'))\n",
    "surf2 = Mesh(geometry=surf_g,\n",
    "             material=MeshLambertMaterial(color='yellow', side='BackSide'))\n",
    "\n",
    "c = PerspectiveCamera(position=[5, 5, 3], up=[0, 0, 1],\n",
    "                      children=[DirectionalLight(color='white', position=[3, 5, 1], intensity=0.8)])\n",
    "scene = Scene(children=[surf, surf2, c, AmbientLight(intensity=0.3)])\n",
    "renderer = Renderer(camera=c, scene=scene, controls=[OrbitControls(controlling=c)], width=400, height=400)\n",
    "display(renderer)"
   ]
  },
  {
   "cell_type": "markdown",
   "id": "dd883bed-7aa7-4b91-9fce-27767b735504",
   "metadata": {},
   "source": [
    "## Indexed Geometries\n",
    "The PlainGeometry lets you specify vertices and faces for a surface."
   ]
  },
  {
   "cell_type": "code",
   "execution_count": 59,
   "id": "af4a3765-f5c2-4334-8f4a-5146fa9e0fec",
   "metadata": {},
   "outputs": [
    {
     "data": {
      "application/vnd.jupyter.widget-view+json": {
       "model_id": "c7331fdb84df4836b42eb5a02aef3cd9",
       "version_major": 2,
       "version_minor": 0
      },
      "text/plain": [
       "Renderer(camera=PerspectiveCamera(children=(DirectionalLight(intensity=0.5, position=(-3.0, 5.0, 1.0), quatern…"
      ]
     },
     "metadata": {},
     "output_type": "display_data"
    }
   ],
   "source": [
    "vertices = [\n",
    "    [0, 0, 0],\n",
    "    [0, 0, 1],\n",
    "    [0, 1, 0],\n",
    "    [0, 1, 1],\n",
    "    [1, 0, 0],\n",
    "    [1, 0, 1],\n",
    "    [1, 1, 0],\n",
    "    [1, 1, 1]\n",
    "]\n",
    "\n",
    "faces = [\n",
    "    [0, 1, 3],\n",
    "    [0, 3, 2],\n",
    "    [0, 2, 4],\n",
    "    [2, 6, 4],\n",
    "    [0, 4, 1],\n",
    "    [1, 4, 5],\n",
    "    [2, 3, 6],\n",
    "    [3, 7, 6],\n",
    "    [1, 5, 3],\n",
    "    [3, 5, 7],\n",
    "    [4, 6, 5],\n",
    "    [5, 6, 7]\n",
    "]\n",
    "\n",
    "vertexcolors = ['#000000', '#0000ff', '#00ff00', '#ff0000',\n",
    "                '#00ffff', '#ff00ff', '#ffff00', '#ffffff']\n",
    "\n",
    "# Map the vertex colors into the 'color' slot of the faces\n",
    "faces = [f + [None, [vertexcolors[i] for i in f], None] for f in faces]\n",
    "\n",
    "# Create the geometry\n",
    "cubeGeometry = Geometry(vertices=vertices, faces=faces, colors=vertexcolors)\n",
    "# Calculate normals per face, for nice crisp edges\n",
    "cubeGeometry.exec_three_obj_method('computeFaceNormals')\n",
    "\n",
    "# Create a mesh. Note that the material need to be told to use the vertex colors.\n",
    "myobjectCube = Mesh(geometry=cubeGeometry,\n",
    "                    material=MeshLambertMaterial(vertexColors='VertexColors'),\n",
    "                    position=[-0.5, -0.5, -0.5],    # Center the cube\n",
    "                   )\n",
    "\n",
    "# Set up a scene and render it\n",
    "cCube = PerspectiveCamera(position=[3, 3, 3], fov=20,\n",
    "                          children=[DirectionalLight(color='#ffffff', position=[-3, 5, 1], intensity=0.5)])\n",
    "sceneCube = Scene(children=[myobjectCube, cCube, AmbientLight(color='#dddddd')])\n",
    "\n",
    "rendererCube = Renderer(camera=cCube, background='black', background_opacity=1,\n",
    "                        scene=sceneCube, controls=[OrbitControls(controlling=cCube)],\n",
    "                        width=600, height=600)\n",
    "\n",
    "display(rendererCube)"
   ]
  },
  {
   "cell_type": "markdown",
   "id": "888aa18c-b680-4a79-88b8-93ad9c03a764",
   "metadata": {},
   "source": [
    "## Buffer Geometries\n",
    "The PlainBufferGeometry object uses several tricks to speed up both the transfer of data and the rendering of the data."
   ]
  },
  {
   "cell_type": "code",
   "execution_count": 61,
   "id": "b7fd1c5b-08cf-4d76-97f0-ae76269e26d1",
   "metadata": {},
   "outputs": [
    {
     "data": {
      "application/vnd.jupyter.widget-view+json": {
       "model_id": "8927f16a8cfa40bcb7de1fb35b847ca6",
       "version_major": 2,
       "version_minor": 0
      },
      "text/plain": [
       "Renderer(camera=PerspectiveCamera(children=(DirectionalLight(intensity=0.5, position=(-3.0, 5.0, 1.0), quatern…"
      ]
     },
     "metadata": {},
     "output_type": "display_data"
    }
   ],
   "source": [
    "vertices = np.asarray([\n",
    "    [0, 0, 0],\n",
    "    [0, 0, 1],\n",
    "    [0, 1, 0],\n",
    "    [0, 1, 1],\n",
    "    [1, 0, 0],\n",
    "    [1, 0, 1],\n",
    "    [1, 1, 0],\n",
    "    [1, 1, 1]\n",
    "], dtype='float32')\n",
    "\n",
    "faces = np.asarray([\n",
    "    [0, 1, 3],\n",
    "    [0, 3, 2],\n",
    "    [0, 2, 4],\n",
    "    [2, 6, 4],\n",
    "    [0, 4, 1],\n",
    "    [1, 4, 5],\n",
    "    [2, 3, 6],\n",
    "    [3, 7, 6],\n",
    "    [1, 5, 3],\n",
    "    [3, 5, 7],\n",
    "    [4, 6, 5],\n",
    "    [5, 6, 7]\n",
    "], dtype='uint16').ravel()  # We need to flatten index array\n",
    "\n",
    "vertexcolors = np.asarray([(0,0,0), (0,0,1), (0,1,0), (1,0,0),\n",
    "                           (0,1,1), (1,0,1), (1,1,0), (1,1,1)], dtype='float32')\n",
    "\n",
    "cubeGeometry = BufferGeometry(attributes=dict(position=BufferAttribute(vertices, normalized=False),\n",
    "                                              index=BufferAttribute(faces, normalized=False),\n",
    "                                              color=BufferAttribute(vertexcolors),\n",
    "                                             ))\n",
    "myobjectCube = Mesh(geometry=cubeGeometry,\n",
    "                    material=MeshLambertMaterial(vertexColors='VertexColors'),\n",
    "                    position=[-0.5, -0.5, -0.5])\n",
    "cCube = PerspectiveCamera(position=[3, 3, 3], fov=20,\n",
    "                          children=[DirectionalLight(color='#ffffff', position=[-3, 5, 1], intensity=0.5)])\n",
    "sceneCube = Scene(children=[myobjectCube, cCube, AmbientLight(color='#dddddd')])\n",
    "\n",
    "rendererCube = Renderer(camera=cCube, background='black', background_opacity=1,\n",
    "                        scene=sceneCube, controls=[OrbitControls(controlling=cCube)],\n",
    "                        width=600, height=600)\n",
    "\n",
    "display(rendererCube)"
   ]
  },
  {
   "cell_type": "markdown",
   "id": "40a55f79-a891-4557-9841-e2100d200be6",
   "metadata": {},
   "source": [
    "Note that there are no face normals logic for buffer geometries, as the attributes are vertex attributes. If you want to add sharp edges for a BufferGeometry, you then have to duplicate the vertices (i.e., don't use an index attribute), and calculate the normals yourself."
   ]
  },
  {
   "cell_type": "code",
   "execution_count": 8,
   "id": "a0b5b436-5d89-4a39-9760-678ca47e21e4",
   "metadata": {},
   "outputs": [
    {
     "data": {
      "application/vnd.jupyter.widget-view+json": {
       "model_id": "b42bdded49cd457e823d423805d34256",
       "version_major": 2,
       "version_minor": 0
      },
      "text/plain": [
       "Map(center=[34.6252978589571, -77.34580993652344], controls=(ZoomControl(options=['position', 'zoom_in_text', …"
      ]
     },
     "metadata": {},
     "output_type": "display_data"
    }
   ],
   "source": [
    "from ipyleaflet import Map\n",
    "\n",
    "Map(center=[34.6252978589571, -77.34580993652344], zoom=10)"
   ]
  },
  {
   "cell_type": "code",
   "execution_count": null,
   "id": "0cbfaeff-32e9-4cf1-bcf7-cfdec6acbfa9",
   "metadata": {},
   "outputs": [],
   "source": []
  }
 ],
 "metadata": {
  "kernelspec": {
   "display_name": "py3js-test",
   "language": "python",
   "name": "py3js-test"
  },
  "language_info": {
   "codemirror_mode": {
    "name": "ipython",
    "version": 3
   },
   "file_extension": ".py",
   "mimetype": "text/x-python",
   "name": "python",
   "nbconvert_exporter": "python",
   "pygments_lexer": "ipython3",
   "version": "3.8.10"
  }
 },
 "nbformat": 4,
 "nbformat_minor": 5
}
