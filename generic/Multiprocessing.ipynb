{
 "cells": [
  {
   "cell_type": "code",
   "execution_count": 2,
   "metadata": {},
   "outputs": [
    {
     "name": "stdout",
     "output_type": "stream",
     "text": [
      "(3.141592653589731, 1.6910369396209717)\n",
      "(3.141592653589923, 1.0537960529327393)\n",
      "(3.1415926535896697, 0.5535199642181396)\n",
      "(3.1415926535898033, 0.44878506660461426)\n"
     ]
    }
   ],
   "source": [
    "import time\n",
    "from multiprocessing import Pool\n",
    "\n",
    "NUM_STEPS = 10000000\n",
    "\n",
    "\n",
    "def compute_pi_serial():\n",
    "    time_0 = time.time()\n",
    "    sum = 0.0\n",
    "    step = 1.0 / NUM_STEPS\n",
    "    for i in range(NUM_STEPS):\n",
    "        x = (i + 0.5) * step\n",
    "        sum += 4.0 / (1.0 + x * x)\n",
    "    elap_time = time.time() - time_0\n",
    "    return step * sum, elap_time\n",
    "\n",
    "\n",
    "def sum_partial(x_start, x_end, n_steps):\n",
    "    sum = 0.0\n",
    "    step = (x_end - x_start) / n_steps\n",
    "    for i in range(n_steps):\n",
    "        x = x_start + (i + 0.5) * step\n",
    "        sum += 4.0 / (1.0 + x * x)\n",
    "    return step * sum\n",
    "\n",
    "\n",
    "def compute_pi_parallel(nprocs):\n",
    "    # no of processes should equally divide NUM_STEPS (for this version)\n",
    "    if NUM_STEPS % nprocs != 0:\n",
    "        raise ValueError(\"nprocs should equally divide NUM_STEPS\")\n",
    "    \n",
    "    time_0 = time.time()\n",
    "    n_steps = int(NUM_STEPS / nprocs)\n",
    "    pool = Pool(nprocs)\n",
    "    \n",
    "    # initial values\n",
    "    ret_vals = []\n",
    "    step = 1.0 / NUM_STEPS\n",
    "    x_start = 0\n",
    "    x_end = step * n_steps\n",
    "    \n",
    "    # launch jobs\n",
    "    for _ in range(nprocs):\n",
    "        # print('x_start, x_end =', (x_start, x_end))\n",
    "        ret = pool.apply_async(sum_partial,\n",
    "                               args=(x_start, x_end, n_steps))\n",
    "        ret_vals.append(ret)\n",
    "        x_start += step * n_steps\n",
    "        x_end += step * n_steps\n",
    "    \n",
    "    # check for and reduce values\n",
    "    sum = 0.0\n",
    "    for i in range(nprocs):\n",
    "        sum += ret_vals[i].get(timeout=5)\n",
    "    \n",
    "    elap_time = time.time() - time_0\n",
    "    return sum, elap_time\n",
    "\n",
    "\n",
    "print(compute_pi_serial())\n",
    "\n",
    "#print(sum_partial(0.0, 1.0, 10000))\n",
    "\n",
    "print(compute_pi_parallel(2))\n",
    "\n",
    "print(compute_pi_parallel(4))\n",
    "\n",
    "print(compute_pi_parallel(8))"
   ]
  },
  {
   "cell_type": "markdown",
   "metadata": {},
   "source": [
    "### Scaling on MacBook\n",
    "Accurate up to 13 significant digits.\n",
    "Scalability goes up significantly up to 4-cpu.\n",
    "System reports cpu_count of 12:"
   ]
  },
  {
   "cell_type": "code",
   "execution_count": 9,
   "metadata": {},
   "outputs": [
    {
     "name": "stdout",
     "output_type": "stream",
     "text": [
      "12\n"
     ]
    }
   ],
   "source": [
    "import multiprocessing as mp\n",
    "print(mp.cpu_count())"
   ]
  },
  {
   "cell_type": "code",
   "execution_count": 3,
   "metadata": {},
   "outputs": [
    {
     "name": "stdout",
     "output_type": "stream",
     "text": [
      "[1.0, 1.8216590587887354, 3.326810941998412, 3.707650657426335]\n"
     ]
    }
   ],
   "source": [
    "times = [1.7916069030761719, 0.9835028648376465, 0.5385358333587646, 0.4832189083099365]\n",
    "y_scale = list(map(lambda x: 1.7916069030761719/x, times))\n",
    "print(y_scale)"
   ]
  },
  {
   "cell_type": "code",
   "execution_count": 7,
   "metadata": {
    "scrolled": true
   },
   "outputs": [
    {
     "data": {
      "text/plain": [
       "Text(0, 0.5, 'scale-up')"
      ]
     },
     "execution_count": 7,
     "metadata": {},
     "output_type": "execute_result"
    },
    {
     "data": {
      "image/png": "[encoded data removed]",
      "text/plain": [
       "<Figure size 432x288 with 1 Axes>"
      ]
     },
     "metadata": {
      "needs_background": "light"
     },
     "output_type": "display_data"
    }
   ],
   "source": [
    "import matplotlib.pyplot as plt\n",
    "%matplotlib inline\n",
    "\n",
    "x_scale = [1, 2, 4, 8]\n",
    "\n",
    "plt.plot(x_scale, y_scale, marker='o')\n",
    "plt.grid('on')\n",
    "plt.xlabel('ncpu')\n",
    "plt.ylabel('scale-up')"
   ]
  },
  {
   "cell_type": "markdown",
   "metadata": {},
   "source": [
    "### Parallel run on 48-cpu system"
   ]
  },
  {
   "cell_type": "code",
   "execution_count": 8,
   "metadata": {},
   "outputs": [
    {
     "name": "stdout",
     "output_type": "stream",
     "text": [
      "[0.6718514874031601, 1.1683237711022338, 2.032381053867722, 2.9630571299463186, 4.616068455872868, 5.603273136435118, 4.551499572381411]\n"
     ]
    },
    {
     "data": {
      "text/plain": [
       "Text(0, 0.5, 'scale-up')"
      ]
     },
     "execution_count": 8,
     "metadata": {},
     "output_type": "execute_result"
    },
    {
     "data": {
      "image/png": "[encoded data removed]",
      "text/plain": [
       "<Figure size 432x288 with 1 Axes>"
      ]
     },
     "metadata": {
      "needs_background": "light"
     },
     "output_type": "display_data"
    }
   ],
   "source": [
    "x_scale = [1, 2, 4, 8, 16, 32, 64]\n",
    "times   = [2.66667103767395, 1.533484935760498, 0.8815310001373291, 0.6046481132507324, 0.3881239891052246, 0.31974291801452637, 0.3936300277709961]\n",
    "y_scale = list(map(lambda x: 1.7916069030761719/x, times))\n",
    "print(y_scale)\n",
    "plt.plot(x_scale, y_scale, marker='o')\n",
    "plt.grid('on')\n",
    "plt.xlabel('ncpu')\n",
    "plt.ylabel('scale-up')"
   ]
  },
  {
   "cell_type": "markdown",
   "metadata": {},
   "source": [
    "### Plot of the function"
   ]
  },
  {
   "cell_type": "code",
   "execution_count": 17,
   "metadata": {},
   "outputs": [
    {
     "name": "stdout",
     "output_type": "stream",
     "text": [
      "101\n"
     ]
    },
    {
     "data": {
      "image/png": "[encoded data removed]",
      "text/plain": [
       "<Figure size 432x288 with 1 Axes>"
      ]
     },
     "metadata": {
      "needs_background": "light"
     },
     "output_type": "display_data"
    }
   ],
   "source": [
    "x = list(map(lambda x: float(x)/100., range(101)))\n",
    "print(len(x))\n",
    "y = list(map(lambda x: 1.0 / (1.0 + x * x), x))\n",
    "plt.plot(x, y)\n",
    "plt.grid('on')"
   ]
  },
  {
   "cell_type": "code",
   "execution_count": null,
   "metadata": {},
   "outputs": [],
   "source": []
  }
 ],
 "metadata": {
  "kernelspec": {
   "display_name": "Python 3",
   "language": "python",
   "name": "python3"
  },
  "language_info": {
   "codemirror_mode": {
    "name": "ipython",
    "version": 3
   },
   "file_extension": ".py",
   "mimetype": "text/x-python",
   "name": "python",
   "nbconvert_exporter": "python",
   "pygments_lexer": "ipython3",
   "version": "3.7.2"
  }
 },
 "nbformat": 4,
 "nbformat_minor": 2
}
