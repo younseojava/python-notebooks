{
 "cells": [
  {
   "cell_type": "markdown",
   "id": "70c56da8-2244-4045-9eff-07a35c267043",
   "metadata": {},
   "source": [
    "# ODE Solver using SciPy\n",
    "ref: https://www.youtube.com/watch?v=1fOqlbmWlPc"
   ]
  },
  {
   "cell_type": "code",
   "execution_count": 1,
   "id": "36246f3b-8697-48e8-921e-9984a18deb77",
   "metadata": {
    "collapsed": true,
    "jupyter": {
     "outputs_hidden": true
    },
    "tags": []
   },
   "outputs": [
    {
     "name": "stdout",
     "output_type": "stream",
     "text": [
      "Package                  Version\n",
      "------------------------ -----------\n",
      "anyio                    3.6.2\n",
      "argon2-cffi              21.3.0\n",
      "argon2-cffi-bindings     21.2.0\n",
      "arrow                    1.2.3\n",
      "asttokens                2.2.1\n",
      "attrs                    22.2.0\n",
      "Babel                    2.11.0\n",
      "backcall                 0.2.0\n",
      "beautifulsoup4           4.11.1\n",
      "bleach                   5.0.1\n",
      "certifi                  2022.12.7\n",
      "cffi                     1.15.1\n",
      "charset-normalizer       2.1.1\n",
      "comm                     0.1.2\n",
      "contourpy                1.0.6\n",
      "cycler                   0.11.0\n",
      "debugpy                  1.6.5\n",
      "decorator                5.1.1\n",
      "defusedxml               0.7.1\n",
      "entrypoints              0.4\n",
      "executing                1.2.0\n",
      "fastjsonschema           2.16.2\n",
      "fonttools                4.38.0\n",
      "fqdn                     1.5.1\n",
      "idna                     3.4\n",
      "importlib-metadata       6.0.0\n",
      "ipykernel                6.20.1\n",
      "ipython                  8.8.0\n",
      "ipython-genutils         0.2.0\n",
      "isoduration              20.11.0\n",
      "jedi                     0.18.2\n",
      "Jinja2                   3.1.2\n",
      "json5                    0.9.11\n",
      "jsonpointer              2.3\n",
      "jsonschema               4.17.3\n",
      "jupyter_client           7.4.8\n",
      "jupyter_core             5.1.3\n",
      "jupyter-events           0.6.2\n",
      "jupyter_server           2.0.6\n",
      "jupyter_server_terminals 0.4.4\n",
      "jupyterlab               3.5.2\n",
      "jupyterlab-pygments      0.2.2\n",
      "jupyterlab_server        2.18.0\n",
      "kiwisolver               1.4.4\n",
      "llvmlite                 0.39.1\n",
      "MarkupSafe               2.1.1\n",
      "matplotlib               3.6.2\n",
      "matplotlib-inline        0.1.6\n",
      "mistune                  2.0.4\n",
      "nbclassic                0.4.8\n",
      "nbclient                 0.7.2\n",
      "nbconvert                7.2.7\n",
      "nbformat                 5.7.2\n",
      "nest-asyncio             1.5.6\n",
      "notebook                 6.5.2\n",
      "notebook_shim            0.2.2\n",
      "numba                    0.56.4\n",
      "numpy                    1.23.5\n",
      "packaging                23.0\n",
      "pandocfilters            1.5.0\n",
      "parso                    0.8.3\n",
      "pexpect                  4.8.0\n",
      "pickleshare              0.7.5\n",
      "Pillow                   9.4.0\n",
      "pip                      22.3.1\n",
      "platformdirs             2.6.2\n",
      "prometheus-client        0.15.0\n",
      "prompt-toolkit           3.0.36\n",
      "psutil                   5.9.4\n",
      "ptyprocess               0.7.0\n",
      "pure-eval                0.2.2\n",
      "pycparser                2.21\n",
      "Pygments                 2.14.0\n",
      "pyparsing                3.0.9\n",
      "pyrsistent               0.19.3\n",
      "python-dateutil          2.8.2\n",
      "python-json-logger       2.0.4\n",
      "pytz                     2022.7\n",
      "PyYAML                   6.0\n",
      "pyzmq                    24.0.1\n",
      "requests                 2.28.1\n",
      "rfc3339-validator        0.1.4\n",
      "rfc3986-validator        0.1.1\n",
      "scipy                    1.10.0\n",
      "Send2Trash               1.8.0\n",
      "setuptools               58.1.0\n",
      "six                      1.16.0\n",
      "sniffio                  1.3.0\n",
      "soupsieve                2.3.2.post1\n",
      "stack-data               0.6.2\n",
      "terminado                0.17.1\n",
      "tinycss2                 1.2.1\n",
      "tomli                    2.0.1\n",
      "tornado                  6.2\n",
      "traitlets                5.8.1\n",
      "uri-template             1.2.0\n",
      "urllib3                  1.26.14\n",
      "wcwidth                  0.2.5\n",
      "webcolors                1.12\n",
      "webencodings             0.5.1\n",
      "websocket-client         1.4.2\n",
      "zipp                     3.11.0\n"
     ]
    }
   ],
   "source": [
    "!python -m pip list"
   ]
  },
  {
   "cell_type": "code",
   "execution_count": 2,
   "id": "05d67ac1-a06e-4921-98d4-480da7149cd9",
   "metadata": {},
   "outputs": [],
   "source": [
    "import scipy as sp"
   ]
  },
  {
   "cell_type": "code",
   "execution_count": 3,
   "id": "6ce1fbd8-6bc7-4b7c-beb1-c06543ed64d6",
   "metadata": {},
   "outputs": [
    {
     "data": {
      "text/plain": [
       "['LowLevelCallable',\n",
       " '__numpy_version__',\n",
       " '__version__',\n",
       " 'cluster',\n",
       " 'datasets',\n",
       " 'fft',\n",
       " 'fftpack',\n",
       " 'integrate',\n",
       " 'interpolate',\n",
       " 'io',\n",
       " 'linalg',\n",
       " 'misc',\n",
       " 'ndimage',\n",
       " 'odr',\n",
       " 'optimize',\n",
       " 'show_config',\n",
       " 'signal',\n",
       " 'sparse',\n",
       " 'spatial',\n",
       " 'special',\n",
       " 'stats',\n",
       " 'test']"
      ]
     },
     "execution_count": 3,
     "metadata": {},
     "output_type": "execute_result"
    }
   ],
   "source": [
    "dir(sp)"
   ]
  },
  {
   "cell_type": "code",
   "execution_count": 1,
   "id": "1f239d5f-d6c2-4524-a880-b3b79c6ad113",
   "metadata": {},
   "outputs": [],
   "source": [
    "from scipy.integrate import odeint"
   ]
  },
  {
   "cell_type": "code",
   "execution_count": 3,
   "id": "043efdd3-eb4a-4a63-9977-ef43d558db9e",
   "metadata": {
    "tags": []
   },
   "outputs": [
    {
     "name": "stdout",
     "output_type": "stream",
     "text": [
      "Help on function odeint in module scipy.integrate._odepack_py:\n",
      "\n",
      "odeint(func, y0, t, args=(), Dfun=None, col_deriv=0, full_output=0, ml=None, mu=None, rtol=None, atol=None, tcrit=None, h0=0.0, hmax=0.0, hmin=0.0, ixpr=0, mxstep=0, mxhnil=0, mxordn=12, mxords=5, printmessg=0, tfirst=False)\n",
      "    Integrate a system of ordinary differential equations.\n",
      "    \n",
      "    .. note:: For new code, use `scipy.integrate.solve_ivp` to solve a\n",
      "              differential equation.\n",
      "    \n",
      "    Solve a system of ordinary differential equations using lsoda from the\n",
      "    FORTRAN library odepack.\n",
      "    \n",
      "    Solves the initial value problem for stiff or non-stiff systems\n",
      "    of first order ode-s::\n",
      "    \n",
      "        dy/dt = func(y, t, ...)  [or func(t, y, ...)]\n",
      "    \n",
      "    where y can be a vector.\n",
      "    \n",
      "    .. note:: By default, the required order of the first two arguments of\n",
      "              `func` are in the opposite order of the arguments in the system\n",
      "              definition function used by the `scipy.integrate.ode` class and\n",
      "              the function `scipy.integrate.solve_ivp`. To use a function with\n",
      "              the signature ``func(t, y, ...)``, the argument `tfirst` must be\n",
      "              set to ``True``.\n",
      "    \n",
      "    Parameters\n",
      "    ----------\n",
      "    func : callable(y, t, ...) or callable(t, y, ...)\n",
      "        Computes the derivative of y at t.\n",
      "        If the signature is ``callable(t, y, ...)``, then the argument\n",
      "        `tfirst` must be set ``True``.\n",
      "    y0 : array\n",
      "        Initial condition on y (can be a vector).\n",
      "    t : array\n",
      "        A sequence of time points for which to solve for y. The initial\n",
      "        value point should be the first element of this sequence.\n",
      "        This sequence must be monotonically increasing or monotonically\n",
      "        decreasing; repeated values are allowed.\n",
      "    args : tuple, optional\n",
      "        Extra arguments to pass to function.\n",
      "    Dfun : callable(y, t, ...) or callable(t, y, ...)\n",
      "        Gradient (Jacobian) of `func`.\n",
      "        If the signature is ``callable(t, y, ...)``, then the argument\n",
      "        `tfirst` must be set ``True``.\n",
      "    col_deriv : bool, optional\n",
      "        True if `Dfun` defines derivatives down columns (faster),\n",
      "        otherwise `Dfun` should define derivatives across rows.\n",
      "    full_output : bool, optional\n",
      "        True if to return a dictionary of optional outputs as the second output\n",
      "    printmessg : bool, optional\n",
      "        Whether to print the convergence message\n",
      "    tfirst : bool, optional\n",
      "        If True, the first two arguments of `func` (and `Dfun`, if given)\n",
      "        must ``t, y`` instead of the default ``y, t``.\n",
      "    \n",
      "        .. versionadded:: 1.1.0\n",
      "    \n",
      "    Returns\n",
      "    -------\n",
      "    y : array, shape (len(t), len(y0))\n",
      "        Array containing the value of y for each desired time in t,\n",
      "        with the initial value `y0` in the first row.\n",
      "    infodict : dict, only returned if full_output == True\n",
      "        Dictionary containing additional output information\n",
      "    \n",
      "        =======  ============================================================\n",
      "        key      meaning\n",
      "        =======  ============================================================\n",
      "        'hu'     vector of step sizes successfully used for each time step\n",
      "        'tcur'   vector with the value of t reached for each time step\n",
      "                 (will always be at least as large as the input times)\n",
      "        'tolsf'  vector of tolerance scale factors, greater than 1.0,\n",
      "                 computed when a request for too much accuracy was detected\n",
      "        'tsw'    value of t at the time of the last method switch\n",
      "                 (given for each time step)\n",
      "        'nst'    cumulative number of time steps\n",
      "        'nfe'    cumulative number of function evaluations for each time step\n",
      "        'nje'    cumulative number of jacobian evaluations for each time step\n",
      "        'nqu'    a vector of method orders for each successful step\n",
      "        'imxer'  index of the component of largest magnitude in the\n",
      "                 weighted local error vector (e / ewt) on an error return, -1\n",
      "                 otherwise\n",
      "        'lenrw'  the length of the double work array required\n",
      "        'leniw'  the length of integer work array required\n",
      "        'mused'  a vector of method indicators for each successful time step:\n",
      "                 1: adams (nonstiff), 2: bdf (stiff)\n",
      "        =======  ============================================================\n",
      "    \n",
      "    Other Parameters\n",
      "    ----------------\n",
      "    ml, mu : int, optional\n",
      "        If either of these are not None or non-negative, then the\n",
      "        Jacobian is assumed to be banded. These give the number of\n",
      "        lower and upper non-zero diagonals in this banded matrix.\n",
      "        For the banded case, `Dfun` should return a matrix whose\n",
      "        rows contain the non-zero bands (starting with the lowest diagonal).\n",
      "        Thus, the return matrix `jac` from `Dfun` should have shape\n",
      "        ``(ml + mu + 1, len(y0))`` when ``ml >=0`` or ``mu >=0``.\n",
      "        The data in `jac` must be stored such that ``jac[i - j + mu, j]``\n",
      "        holds the derivative of the `i`th equation with respect to the `j`th\n",
      "        state variable.  If `col_deriv` is True, the transpose of this\n",
      "        `jac` must be returned.\n",
      "    rtol, atol : float, optional\n",
      "        The input parameters `rtol` and `atol` determine the error\n",
      "        control performed by the solver.  The solver will control the\n",
      "        vector, e, of estimated local errors in y, according to an\n",
      "        inequality of the form ``max-norm of (e / ewt) <= 1``,\n",
      "        where ewt is a vector of positive error weights computed as\n",
      "        ``ewt = rtol * abs(y) + atol``.\n",
      "        rtol and atol can be either vectors the same length as y or scalars.\n",
      "        Defaults to 1.49012e-8.\n",
      "    tcrit : ndarray, optional\n",
      "        Vector of critical points (e.g., singularities) where integration\n",
      "        care should be taken.\n",
      "    h0 : float, (0: solver-determined), optional\n",
      "        The step size to be attempted on the first step.\n",
      "    hmax : float, (0: solver-determined), optional\n",
      "        The maximum absolute step size allowed.\n",
      "    hmin : float, (0: solver-determined), optional\n",
      "        The minimum absolute step size allowed.\n",
      "    ixpr : bool, optional\n",
      "        Whether to generate extra printing at method switches.\n",
      "    mxstep : int, (0: solver-determined), optional\n",
      "        Maximum number of (internally defined) steps allowed for each\n",
      "        integration point in t.\n",
      "    mxhnil : int, (0: solver-determined), optional\n",
      "        Maximum number of messages printed.\n",
      "    mxordn : int, (0: solver-determined), optional\n",
      "        Maximum order to be allowed for the non-stiff (Adams) method.\n",
      "    mxords : int, (0: solver-determined), optional\n",
      "        Maximum order to be allowed for the stiff (BDF) method.\n",
      "    \n",
      "    See Also\n",
      "    --------\n",
      "    solve_ivp : solve an initial value problem for a system of ODEs\n",
      "    ode : a more object-oriented integrator based on VODE\n",
      "    quad : for finding the area under a curve\n",
      "    \n",
      "    Examples\n",
      "    --------\n",
      "    The second order differential equation for the angle `theta` of a\n",
      "    pendulum acted on by gravity with friction can be written::\n",
      "    \n",
      "        theta''(t) + b*theta'(t) + c*sin(theta(t)) = 0\n",
      "    \n",
      "    where `b` and `c` are positive constants, and a prime (') denotes a\n",
      "    derivative. To solve this equation with `odeint`, we must first convert\n",
      "    it to a system of first order equations. By defining the angular\n",
      "    velocity ``omega(t) = theta'(t)``, we obtain the system::\n",
      "    \n",
      "        theta'(t) = omega(t)\n",
      "        omega'(t) = -b*omega(t) - c*sin(theta(t))\n",
      "    \n",
      "    Let `y` be the vector [`theta`, `omega`]. We implement this system\n",
      "    in Python as:\n",
      "    \n",
      "    >>> import numpy as np\n",
      "    >>> def pend(y, t, b, c):\n",
      "    ...     theta, omega = y\n",
      "    ...     dydt = [omega, -b*omega - c*np.sin(theta)]\n",
      "    ...     return dydt\n",
      "    ...\n",
      "    \n",
      "    We assume the constants are `b` = 0.25 and `c` = 5.0:\n",
      "    \n",
      "    >>> b = 0.25\n",
      "    >>> c = 5.0\n",
      "    \n",
      "    For initial conditions, we assume the pendulum is nearly vertical\n",
      "    with `theta(0)` = `pi` - 0.1, and is initially at rest, so\n",
      "    `omega(0)` = 0.  Then the vector of initial conditions is\n",
      "    \n",
      "    >>> y0 = [np.pi - 0.1, 0.0]\n",
      "    \n",
      "    We will generate a solution at 101 evenly spaced samples in the interval\n",
      "    0 <= `t` <= 10.  So our array of times is:\n",
      "    \n",
      "    >>> t = np.linspace(0, 10, 101)\n",
      "    \n",
      "    Call `odeint` to generate the solution. To pass the parameters\n",
      "    `b` and `c` to `pend`, we give them to `odeint` using the `args`\n",
      "    argument.\n",
      "    \n",
      "    >>> from scipy.integrate import odeint\n",
      "    >>> sol = odeint(pend, y0, t, args=(b, c))\n",
      "    \n",
      "    The solution is an array with shape (101, 2). The first column\n",
      "    is `theta(t)`, and the second is `omega(t)`. The following code\n",
      "    plots both components.\n",
      "    \n",
      "    >>> import matplotlib.pyplot as plt\n",
      "    >>> plt.plot(t, sol[:, 0], 'b', label='theta(t)')\n",
      "    >>> plt.plot(t, sol[:, 1], 'g', label='omega(t)')\n",
      "    >>> plt.legend(loc='best')\n",
      "    >>> plt.xlabel('t')\n",
      "    >>> plt.grid()\n",
      "    >>> plt.show()\n",
      "\n"
     ]
    }
   ],
   "source": [
    "help(odeint)"
   ]
  },
  {
   "cell_type": "markdown",
   "id": "860171f3-6557-4524-8689-f750454dac20",
   "metadata": {},
   "source": [
    "## Radioactive decay\n",
    "\n",
    "Governing equation is\n",
    "$$ \\frac{dC}{dt} = - \\frac{C}{\\tau}. \\label{eq:decay} $$\n",
    "The exact solution is\n",
    "$$ C(t) = C_0 e^{-t / \\tau}, \\label{eq:solution} $$\n",
    "where $C_0$ is the initial concentration.\n",
    "    \n"
   ]
  },
  {
   "cell_type": "markdown",
   "id": "5133a513-60fb-450d-a5bd-c7b27207a082",
   "metadata": {},
   "source": [
    "Solve the above equation with $\\tau = 1, C_0 = 1$ and $t_{end} = 5.$"
   ]
  },
  {
   "cell_type": "code",
   "execution_count": 5,
   "id": "506b435a-dca5-4b0e-8ec2-6f3a0ca365b2",
   "metadata": {},
   "outputs": [],
   "source": [
    "%matplotlib inline\n",
    "import numpy as np"
   ]
  },
  {
   "cell_type": "code",
   "execution_count": 6,
   "id": "f3bc4e4f-dfe5-4eb7-b23c-cd937baf7604",
   "metadata": {},
   "outputs": [],
   "source": [
    "def rhsf(C, t):\n",
    "    t = 1.0\n",
    "    return -C/t\n",
    "\n",
    "t = np.linspace(0, 5, 1000)\n",
    "\n",
    "c0 = 1.0\n",
    "\n",
    "c = odeint(rhsf, c0, t)\n"
   ]
  },
  {
   "cell_type": "code",
   "execution_count": 7,
   "id": "09aa427a-ad44-419c-acaa-edbe794b3bcc",
   "metadata": {},
   "outputs": [],
   "source": [
    "import matplotlib.pyplot as plt"
   ]
  },
  {
   "cell_type": "code",
   "execution_count": 10,
   "id": "f1abd68e-fd59-4cc7-b786-fa66ec4985fb",
   "metadata": {},
   "outputs": [
    {
     "data": {
      "text/plain": [
       "[<matplotlib.lines.Line2D at 0x7f5258efb070>,\n",
       " <matplotlib.lines.Line2D at 0x7f5258efb0d0>]"
      ]
     },
     "execution_count": 10,
     "metadata": {},
     "output_type": "execute_result"
    },
    {
     "data": {
      "image/png": "[encoded data removed]",
      "text/plain": [
       "<Figure size 640x480 with 1 Axes>"
      ]
     },
     "metadata": {},
     "output_type": "display_data"
    }
   ],
   "source": [
    "plt.plot(t, c, t, c0*np.exp(-t/1.0))"
   ]
  },
  {
   "cell_type": "markdown",
   "id": "06682453-5d20-4bd3-9900-c8ca0780532d",
   "metadata": {},
   "source": [
    "**Two solutions match exactly.**"
   ]
  },
  {
   "cell_type": "markdown",
   "id": "2b638871-c997-437b-a4b7-6e761562bf6b",
   "metadata": {},
   "source": [
    "## Terminal velocity\n",
    "For vertical velocity v of a body moving in air under gravitation, equation of motion is:\n",
    "$$ \\frac{dv}{dt} = g - cv^2. \\label{eq:eom} $$\n",
    "- $g = 9.81, c = 1.$\n",
    "- $v_0 = 0.$\n",
    "- Solve to $t = 2.$"
   ]
  },
  {
   "cell_type": "code",
   "execution_count": 17,
   "id": "0e84bfc9-f2c7-4025-bafd-773a589d11a6",
   "metadata": {},
   "outputs": [],
   "source": [
    "def term_rhsf(v, t, g, c):\n",
    "    '''v: velocity, t: time, g: gravitational const, c: drag coeff'''\n",
    "    return g - c * v * v\n",
    "\n",
    "ts = np.linspace(0, 2, 1000)\n",
    "\n",
    "v0 = 0\n",
    "g = 9.81\n",
    "c = 1\n",
    "\n",
    "vsol = odeint(term_rhsf, v0, ts, (g, c))"
   ]
  },
  {
   "cell_type": "code",
   "execution_count": 18,
   "id": "d559824a-7d9f-4998-ab2a-f4bb5c8dbfc0",
   "metadata": {},
   "outputs": [
    {
     "data": {
      "text/plain": [
       "[<matplotlib.lines.Line2D at 0x7f52564eb250>]"
      ]
     },
     "execution_count": 18,
     "metadata": {},
     "output_type": "execute_result"
    },
    {
     "data": {
      "image/png": "[encoded data removed]",
      "text/plain": [
       "<Figure size 640x480 with 1 Axes>"
      ]
     },
     "metadata": {},
     "output_type": "display_data"
    }
   ],
   "source": [
    "plt.plot(ts, vsol)"
   ]
  },
  {
   "cell_type": "markdown",
   "id": "4c44976f-a8dc-4e1a-a5ec-c10b344728ed",
   "metadata": {},
   "source": [
    "## Simultaneous equations\n",
    "Linear stat equation of falling body under gravity:\n",
    "$$ \\frac{dv}{dt} = g - cv^2, $$\n",
    "$$ \\frac{dx}{dt} = v. $$\n",
    "- $x$ is position, $v$ velocity, $g$ gravitational acceleration, $c$ drag coefficient."
   ]
  },
  {
   "cell_type": "code",
   "execution_count": 26,
   "id": "c24eb42c-2269-4bd1-b6b4-36991d040c54",
   "metadata": {},
   "outputs": [],
   "source": [
    "def simul_rhsf(vx, t, g, c):\n",
    "    v = vx[0]\n",
    "    x = vx[1]\n",
    "    dvdt = g - c*v**2\n",
    "    dxdt = v\n",
    "    \n",
    "    return np.array([dvdt, dxdt])\n",
    "\n",
    "ts1 = np.linspace(0, 2, 100)\n",
    "\n",
    "vx0 = np.array([0, 0])\n",
    "g, c = 9.81, 1.0\n",
    "\n",
    "vx = odeint(simul_rhsf, vx0, ts1, (g, c))\n"
   ]
  },
  {
   "cell_type": "code",
   "execution_count": 27,
   "id": "2e603c56-c33c-4dbe-93d2-8af82793255a",
   "metadata": {},
   "outputs": [
    {
     "data": {
      "text/plain": [
       "[<matplotlib.lines.Line2D at 0x7f52530f2250>]"
      ]
     },
     "execution_count": 27,
     "metadata": {},
     "output_type": "execute_result"
    },
    {
     "data": {
      "image/png": "[encoded data removed]",
      "text/plain": [
       "<Figure size 640x480 with 1 Axes>"
      ]
     },
     "metadata": {},
     "output_type": "display_data"
    }
   ],
   "source": [
    "v = vx[:, 0]\n",
    "x = vx[:, 1]\n",
    "\n",
    "plt.plot(ts1, v)\n",
    "plt.plot(ts1, x)"
   ]
  },
  {
   "cell_type": "markdown",
   "id": "038cb239-5a4e-4a87-9bbe-29a9167fbc0a",
   "metadata": {},
   "source": [
    "-----\n",
    "## Chemical Reaction\n",
    "$$ Reaction 1: A + B \\rightarrow C $$\n",
    "$$ Reaction 2: B + C \\rightarrow D $$\n",
    "Initial conentrations: $A_0 = 1, B_0 = 1, C_0 = 0, D_0 = 0.$, Also, $k_1 = 1, k_2 = 1.5.$<br>\n",
    "Rate equation:\n",
    "$$ \\frac{dA}{dt} = -k_1AB, $$\n",
    "$$ \\frac{dB}{dt} = -k_1AB -k_2BC, $$\n",
    "$$ \\frac{dC}{dt} = k_1AB -k_2BC, $$\n",
    "$$ \\frac{dD}{dt} = k_2BC. $$\n",
    "Solve for concentration of $A, B, C,$ and $D$ as function of time to $t = 3s.$\n"
   ]
  },
  {
   "cell_type": "code",
   "execution_count": 33,
   "id": "feff3351-b3dc-4776-aa04-fcf22fef5a26",
   "metadata": {},
   "outputs": [],
   "source": [
    "def rhsf(ABCD, t, k1, k2):\n",
    "    A = ABCD[0]\n",
    "    B = ABCD[1]\n",
    "    C = ABCD[2]\n",
    "    D = ABCD[3]\n",
    "    \n",
    "    dAdt = -k1 * A * B\n",
    "    dBdt = -k1 * A * B - k2 * B * C\n",
    "    dCdt = k1 * A * B - k2 * B * C\n",
    "    dDdt = k2 * B * C\n",
    "    \n",
    "    return np.array([dAdt, dBdt, dCdt, dDdt])\n",
    "\n",
    "ABCD0 = np.array([1, 1, 0, 0])\n",
    "ts = np.linspace(0, 10, 1500)\n",
    "k1, k2 = (1.0, 1.5)\n",
    "\n",
    "ABCD = odeint(rhsf, ABCD0, ts, (k1, k2))"
   ]
  },
  {
   "cell_type": "code",
   "execution_count": 34,
   "id": "ba8b0242-e22d-4f07-b105-b9b279ad83ca",
   "metadata": {},
   "outputs": [
    {
     "data": {
      "text/plain": [
       "[<matplotlib.lines.Line2D at 0x7f5252ea21c0>]"
      ]
     },
     "execution_count": 34,
     "metadata": {},
     "output_type": "execute_result"
    },
    {
     "data": {
      "image/png": "[encoded data removed]",
      "text/plain": [
       "<Figure size 640x480 with 1 Axes>"
      ]
     },
     "metadata": {},
     "output_type": "display_data"
    }
   ],
   "source": [
    "plt.plot(ts, ABCD[:, 0])\n",
    "plt.plot(ts, ABCD[:, 1])\n",
    "plt.plot(ts, ABCD[:, 2])\n",
    "plt.plot(ts, ABCD[:, 3])\n"
   ]
  },
  {
   "cell_type": "markdown",
   "id": "68369f6e-2e3d-4e96-8ec8-5db57d2fcf9c",
   "metadata": {},
   "source": [
    "**Equilibrium has reached!**"
   ]
  },
  {
   "cell_type": "code",
   "execution_count": null,
   "id": "6af79351-9a21-47fc-9187-8a829ff1b746",
   "metadata": {},
   "outputs": [],
   "source": []
  }
 ],
 "metadata": {
  "kernelspec": {
   "display_name": "Python 3.9 (venv)",
   "language": "python",
   "name": "venv_py39"
  },
  "language_info": {
   "codemirror_mode": {
    "name": "ipython",
    "version": 3
   },
   "file_extension": ".py",
   "mimetype": "text/x-python",
   "name": "python",
   "nbconvert_exporter": "python",
   "pygments_lexer": "ipython3",
   "version": "3.9.13"
  }
 },
 "nbformat": 4,
 "nbformat_minor": 5
}
