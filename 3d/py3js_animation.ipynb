{
 "cells": [
  {
   "cell_type": "code",
   "execution_count": 1,
   "id": "c3f03886-f43a-4023-94e1-d126aa3d61ec",
   "metadata": {},
   "outputs": [],
   "source": [
    "from pythreejs import *\n",
    "import ipywidgets\n",
    "from IPython.display import display"
   ]
  },
  {
   "cell_type": "code",
   "execution_count": 3,
   "id": "4addf58d-1015-4f83-b026-c65bfed06a8f",
   "metadata": {},
   "outputs": [],
   "source": [
    "# Reduce repo churn for examples with embedded state\n",
    "from pythreejs._example_helper import use_example_model_ids\n",
    "use_example_model_ids()"
   ]
  },
  {
   "cell_type": "code",
   "execution_count": 4,
   "id": "6dc2aed6-3386-40c3-8c7a-a7cdedc961e3",
   "metadata": {},
   "outputs": [],
   "source": [
    "view_width, view_height = 600, 400"
   ]
  },
  {
   "cell_type": "code",
   "execution_count": 6,
   "id": "06142c0e-4d88-4739-802c-dc6051a44a6f",
   "metadata": {},
   "outputs": [],
   "source": [
    "sphere = Mesh(SphereBufferGeometry(1, 32, 16),\n",
    "              MeshStandardMaterial(color='red'))\n",
    "\n",
    "cube = Mesh(BoxBufferGeometry(1, 1, 1),\n",
    "            MeshPhysicalMaterial(color='green'),\n",
    "            position=[2, 0, 4])\n",
    "\n",
    "camera = PerspectiveCamera(position=[10, 6, 10], aspect=view_width/view_height)\n",
    "key_light = DirectionalLight(position=[0, 10, 10])\n",
    "ambient_light = AmbientLight()"
   ]
  },
  {
   "cell_type": "markdown",
   "id": "99cc6d9e-edd6-497b-bbe9-f4242641ea20",
   "metadata": {},
   "source": [
    "## Keyframe animation\n",
    "The three.js animation system is built as a keyframe system. We'll demonstrate this by animating the position and rotation of our camera.\n",
    "\n",
    "First, we set up the keyframes for the position and the rotation separately:"
   ]
  },
  {
   "cell_type": "code",
   "execution_count": 8,
   "id": "d4cda444-0173-4099-a62f-ad44c2e5e4f9",
   "metadata": {},
   "outputs": [],
   "source": [
    "position_track = VectorKeyframeTrack(name='.position',\n",
    "                                     times=[0, 2, 5],\n",
    "                                     values=[10, 6, 10,\n",
    "                                             6.3, 3.78, 6.3,\n",
    "                                             -2.98, 0.84, 9.2,\n",
    "                                            ])\n",
    "rotation_track = QuaternionKeyframeTrack(name='.quaternion',\n",
    "                                         times=[0, 2, 5],\n",
    "                                         values=[-0.184, 0.375, 0.0762, 0.905,\n",
    "                                                 -0.184, 0.375, 0.0762, 0.905,\n",
    "                                                 -0.0430, -0.156, -0.00681, 0.987,\n",
    "                                                ])"
   ]
  },
  {
   "cell_type": "markdown",
   "id": "002296af-9697-4732-9895-e7b1ee52e9de",
   "metadata": {},
   "source": [
    "Next, we create an animation clip combining the two tracks, and finally an animation action to control the animation. See the three.js docs for more details on the different responsibilities of the different classes."
   ]
  },
  {
   "cell_type": "code",
   "execution_count": 9,
   "id": "1d19ef16-4591-4313-b475-720ed822b764",
   "metadata": {},
   "outputs": [],
   "source": [
    "camera_clip = AnimationClip(tracks=[position_track, rotation_track])\n",
    "camera_action = AnimationAction(AnimationMixer(camera), camera_clip, camera)"
   ]
  },
  {
   "cell_type": "code",
   "execution_count": 10,
   "id": "6f854263-9ff5-43a5-a753-5311210979de",
   "metadata": {},
   "outputs": [],
   "source": [
    "scene = Scene(children=[sphere, cube, camera, key_light, ambient_light])\n",
    "controller = OrbitControls(controlling=camera)\n",
    "renderer = Renderer(camera=camera, scene=scene, controls=[controller], width=view_width, height=view_height)"
   ]
  },
  {
   "cell_type": "code",
   "execution_count": 11,
   "id": "99a73603-b9dd-470b-bcc5-5aebd4812b3f",
   "metadata": {},
   "outputs": [
    {
     "data": {
      "application/vnd.jupyter.widget-view+json": {
       "model_id": "pythree_example_model_021",
       "version_major": 2,
       "version_minor": 0
      },
      "text/plain": [
       "Renderer(camera=PerspectiveCamera(aspect=1.5, position=(10.0, 6.0, 10.0), projectionMatrix=(1.4296712803397058…"
      ]
     },
     "metadata": {},
     "output_type": "display_data"
    }
   ],
   "source": [
    "renderer"
   ]
  },
  {
   "cell_type": "code",
   "execution_count": 12,
   "id": "9f806c1a-046d-444e-809d-455f72d1920b",
   "metadata": {},
   "outputs": [
    {
     "data": {
      "application/vnd.jupyter.widget-view+json": {
       "model_id": "pythree_example_model_017",
       "version_major": 2,
       "version_minor": 0
      },
      "text/plain": [
       "AnimationAction(clip=AnimationClip(duration=5.0, tracks=(VectorKeyframeTrack(name='.position', times=array([0,…"
      ]
     },
     "metadata": {},
     "output_type": "display_data"
    }
   ],
   "source": [
    "camera_action"
   ]
  },
  {
   "cell_type": "markdown",
   "id": "644671df-6d8a-4672-b448-5c3b213c12c4",
   "metadata": {},
   "source": [
    "Let's add another animation clip, this time animating the color of the sphere's material:"
   ]
  },
  {
   "cell_type": "code",
   "execution_count": 13,
   "id": "a51bf052-b3b5-41d5-be83-6ca7d8952f2a",
   "metadata": {},
   "outputs": [],
   "source": [
    "color_track = ColorKeyframeTrack(name='.material.color',\n",
    "                                 times=[0, 1],\n",
    "                                 values=[1, 0, 0,\n",
    "                                         0, 0, 1])  # red to blue\n",
    "color_clip = AnimationClip(tracks=[color_track], duration=1.5)\n",
    "color_action = AnimationAction(AnimationMixer(sphere), color_clip, sphere)"
   ]
  },
  {
   "cell_type": "code",
   "execution_count": 14,
   "id": "a3ed9a46-045f-464a-89c8-88dc6f7d5b94",
   "metadata": {},
   "outputs": [
    {
     "data": {
      "application/vnd.jupyter.widget-view+json": {
       "model_id": "pythree_example_model_027",
       "version_major": 2,
       "version_minor": 0
      },
      "text/plain": [
       "AnimationAction(clip=AnimationClip(duration=1.5, tracks=(ColorKeyframeTrack(name='.material.color', times=arra…"
      ]
     },
     "metadata": {},
     "output_type": "display_data"
    }
   ],
   "source": [
    "color_action"
   ]
  },
  {
   "cell_type": "markdown",
   "id": "bead888c-34ed-448e-8048-ad131acb3a8e",
   "metadata": {},
   "source": [
    "**Note** that two animations can be combined together: `camera_action` and `color_action`"
   ]
  },
  {
   "cell_type": "markdown",
   "id": "8f627801-c009-4ffe-b977-bbbf7a2c1e90",
   "metadata": {},
   "source": [
    "## Animating rotation"
   ]
  },
  {
   "cell_type": "code",
   "execution_count": 22,
   "id": "75972f5c-9b65-42d4-9811-37f8fd6986bc",
   "metadata": {},
   "outputs": [
    {
     "data": {
      "application/vnd.jupyter.widget-view+json": {
       "model_id": "pythree_example_model_082",
       "version_major": 2,
       "version_minor": 0
      },
      "text/plain": [
       "Renderer(camera=PerspectiveCamera(aspect=1.5, position=(10.0, 6.0, 10.0), projectionMatrix=(1.0, 0.0, 0.0, 0.0…"
      ]
     },
     "metadata": {},
     "output_type": "display_data"
    }
   ],
   "source": [
    "f = \"\"\"\n",
    "function f(origu, origv, out) {\n",
    "    // scale u and v to the ranges I want: [0, 2*pi]\n",
    "    var u = 2*Math.PI*origu;\n",
    "    var v = 2*Math.PI*origv;\n",
    "    \n",
    "    var x = Math.sin(u);\n",
    "    var y = Math.cos(v);\n",
    "    var z = Math.cos(u+v);\n",
    "    \n",
    "    out.set(x,y,z)\n",
    "}\n",
    "\"\"\"\n",
    "surf_g = ParametricGeometry(func=f, slices=16, stacks=16);\n",
    "\n",
    "surf1 = Mesh(geometry=surf_g,\n",
    "             material=MeshLambertMaterial(color='green', side='FrontSide'))\n",
    "surf2 = Mesh(geometry=surf_g,\n",
    "             material=MeshLambertMaterial(color='yellow', side='BackSide'))\n",
    "surf = Group(children=[surf1, surf2])\n",
    "\n",
    "camera2 = PerspectiveCamera( position=[10, 6, 10], aspect=view_width/view_height)\n",
    "scene2 = Scene(children=[surf, camera2,\n",
    "                         DirectionalLight(position=[3, 5, 1], intensity=0.6),\n",
    "                         AmbientLight(intensity=0.5)])\n",
    "renderer2 = Renderer(camera=camera2, scene=scene2,\n",
    "                     controls=[OrbitControls(controlling=camera2)],\n",
    "                     width=view_width, height=view_height)\n",
    "display(renderer2)"
   ]
  },
  {
   "cell_type": "code",
   "execution_count": 23,
   "id": "1a21b910-9b42-4016-bc78-69a18cd30ad2",
   "metadata": {},
   "outputs": [
    {
     "data": {
      "application/vnd.jupyter.widget-view+json": {
       "model_id": "pythree_example_model_091",
       "version_major": 2,
       "version_minor": 0
      },
      "text/plain": [
       "AnimationAction(clip=AnimationClip(tracks=(NumberKeyframeTrack(name='.rotation[y]', times=array([0, 2], dtype=…"
      ]
     },
     "metadata": {},
     "output_type": "display_data"
    }
   ],
   "source": [
    "spin_track = NumberKeyframeTrack(name='.rotation[y]',\n",
    "                                 times=[0, 2],\n",
    "                                 values=[0, 2 * math.pi])\n",
    "spin_clip = AnimationClip(tracks=[spin_track])\n",
    "spin_action = AnimationAction(AnimationMixer(surf), spin_clip, surf)\n",
    "spin_action"
   ]
  },
  {
   "cell_type": "markdown",
   "id": "03d94634-1841-4f09-84da-cbee542c9c49",
   "metadata": {},
   "source": [
    "**NOTE** rotation is implied on the object itself(`surf`) so can rotate camera separately."
   ]
  },
  {
   "cell_type": "markdown",
   "id": "6fcc8cdc-0ddf-416d-b243-dadb1c1f6503",
   "metadata": {},
   "source": [
    "## Morph targets"
   ]
  },
  {
   "cell_type": "code",
   "execution_count": 25,
   "id": "9b8244e2-bb3c-4150-90ad-134982609a57",
   "metadata": {},
   "outputs": [],
   "source": [
    "morph = BufferGeometry.from_geometry(SphereBufferGeometry(1, 32, 16))"
   ]
  },
  {
   "cell_type": "code",
   "execution_count": 26,
   "id": "c9ad6020-f3b4-4d07-9b74-5d663b08a0f0",
   "metadata": {},
   "outputs": [
    {
     "data": {
      "text/plain": [
       "array([[-0.0000000e+00,  1.0000000e+00,  0.0000000e+00],\n",
       "       [-0.0000000e+00,  1.0000000e+00,  0.0000000e+00],\n",
       "       [-0.0000000e+00,  1.0000000e+00,  0.0000000e+00],\n",
       "       ...,\n",
       "       [-1.1314261e-16, -1.0000000e+00, -4.6865205e-17],\n",
       "       [-1.2011156e-16, -1.0000000e+00, -2.3891674e-17],\n",
       "       [-1.2246469e-16, -1.0000000e+00, -2.9995195e-32]], dtype=float32)"
      ]
     },
     "execution_count": 26,
     "metadata": {},
     "output_type": "execute_result"
    }
   ],
   "source": [
    "import numpy as np\n",
    "\n",
    "# set up morph target\n",
    "vertices = np.array(morph.attributes['position'].array)\n",
    "vertices"
   ]
  },
  {
   "cell_type": "code",
   "execution_count": 27,
   "id": "7b2d07a6-7348-480c-836e-f9be44128097",
   "metadata": {},
   "outputs": [
    {
     "data": {
      "text/plain": [
       "(561, 3)"
      ]
     },
     "execution_count": 27,
     "metadata": {},
     "output_type": "execute_result"
    }
   ],
   "source": [
    "vertices.shape"
   ]
  },
  {
   "cell_type": "code",
   "execution_count": 28,
   "id": "eef566e7-1624-4d88-8567-3bfd4736f4b1",
   "metadata": {},
   "outputs": [],
   "source": [
    "for i in range(len(vertices)):\n",
    "    if vertices[i, 0] > 0:\n",
    "        vertices[i, 0] += 1\n",
    "morph.morphAttributes = {'position': [BufferAttribute(vertices),]}\n",
    "\n",
    "# pill shape\n",
    "morphMesh = Mesh(morph, MeshPhongMaterial(color='#ff3333', shininess=150, morphTargets=True))"
   ]
  },
  {
   "cell_type": "markdown",
   "id": "06cb5a3c-96a1-4d19-b9d9-0b314a35d9a9",
   "metadata": {},
   "source": [
    "Set up animation for going back and forth between the sphere and pill shape:"
   ]
  },
  {
   "cell_type": "code",
   "execution_count": 29,
   "id": "65312e4f-6e62-4bde-92fa-e62a3f2a7741",
   "metadata": {},
   "outputs": [],
   "source": [
    "pill_track = NumberKeyframeTrack(name='.morphTargetInfluences[0]',\n",
    "                                 times=[0, 1.5, 3],\n",
    "                                 values=[0, 2.5, 0])\n",
    "pill_clip = AnimationClip(tracks=[pill_track])\n",
    "pill_action = AnimationAction(AnimationMixer(morphMesh), pill_clip, morphMesh)"
   ]
  },
  {
   "cell_type": "code",
   "execution_count": 30,
   "id": "f490a4f4-8eca-48a5-93d4-525ddc58d592",
   "metadata": {},
   "outputs": [
    {
     "data": {
      "application/vnd.jupyter.widget-view+json": {
       "model_id": "pythree_example_model_112",
       "version_major": 2,
       "version_minor": 0
      },
      "text/plain": [
       "Renderer(camera=PerspectiveCamera(aspect=1.5, position=(5.0, 3.0, 5.0), projectionMatrix=(1.0, 0.0, 0.0, 0.0, …"
      ]
     },
     "metadata": {},
     "output_type": "display_data"
    },
    {
     "data": {
      "application/vnd.jupyter.widget-view+json": {
       "model_id": "pythree_example_model_105",
       "version_major": 2,
       "version_minor": 0
      },
      "text/plain": [
       "AnimationAction(clip=AnimationClip(duration=3.0, tracks=(NumberKeyframeTrack(name='.morphTargetInfluences[0]',…"
      ]
     },
     "metadata": {},
     "output_type": "display_data"
    }
   ],
   "source": [
    "camera3 = PerspectiveCamera(position=[5, 3, 5], aspect=view_width/view_height)\n",
    "scene3 = Scene(children=[morphMesh, camera3,\n",
    "                         DirectionalLight(position=[3, 5, 1], intensity=0.6),\n",
    "                         AmbientLight(intensity=0.5)])\n",
    "renderer3 = Renderer(camera=camera3, scene=scene3,\n",
    "                     controls=[OrbitControls(controlling=camera3)],\n",
    "                     width=view_width, height=view_height)\n",
    "display(renderer3, pill_action)"
   ]
  },
  {
   "cell_type": "markdown",
   "id": "190127ce-0205-4481-be56-91faaa6c1d26",
   "metadata": {},
   "source": [
    "## Skeletal animation"
   ]
  },
  {
   "cell_type": "code",
   "execution_count": 31,
   "id": "ca0d7750-497a-4dd6-8816-ad73cd9d5884",
   "metadata": {},
   "outputs": [],
   "source": [
    "N_BONES = 3\n",
    "\n",
    "ref_cylinder = CylinderBufferGeometry(5, 5, 50, 5, N_BONES * 5, True)\n",
    "cylinder = BufferGeometry.from_geometry(ref_cylinder)"
   ]
  },
  {
   "cell_type": "code",
   "execution_count": 32,
   "id": "eaf5a43d-0a0d-4519-946c-3abb02141c13",
   "metadata": {},
   "outputs": [],
   "source": [
    "skinIndices = []\n",
    "skinWeights = []\n",
    "vertices = cylinder.attributes['position'].array\n",
    "boneHeight = ref_cylinder.height / (N_BONES - 1)\n",
    "\n",
    "for i in range(vertices.shape[0]):\n",
    "\n",
    "    y = vertices[i, 1] + 0.5 * ref_cylinder.height\n",
    "\n",
    "    skinIndex = y // boneHeight\n",
    "    skinWeight = ( y % boneHeight ) / boneHeight\n",
    "\n",
    "    # Ease between each bone\n",
    "    skinIndices.append([skinIndex, skinIndex + 1, 0, 0 ])\n",
    "    skinWeights.append([1 - skinWeight, skinWeight, 0, 0 ])\n",
    "\n",
    "cylinder.attributes = dict(\n",
    "    cylinder.attributes,\n",
    "    skinIndex=BufferAttribute(skinIndices),\n",
    "    skinWeight=BufferAttribute(skinWeights),\n",
    ")\n",
    "\n",
    "shoulder = Bone(position=(0, -25, 0))\n",
    "elbow = Bone(position=(0, 25, 0))\n",
    "hand = Bone(position=(0, 25, 0))\n",
    "\n",
    "shoulder.add(elbow)\n",
    "elbow.add(hand)\n",
    "bones = [shoulder, elbow, hand]\n",
    "skeleton = Skeleton(bones)\n",
    "\n",
    "mesh = SkinnedMesh(cylinder, MeshPhongMaterial(side='DoubleSide', skinning=True))\n",
    "mesh.add(bones[0])\n",
    "mesh.skeleton = skeleton"
   ]
  },
  {
   "cell_type": "code",
   "execution_count": 34,
   "id": "ec1618cb-7436-4295-ab42-06790bfbedc7",
   "metadata": {},
   "outputs": [],
   "source": [
    "helper = SkeletonHelper(mesh)"
   ]
  },
  {
   "cell_type": "code",
   "execution_count": 35,
   "id": "2fc1b991-8dab-4a84-a528-fb064d7de07e",
   "metadata": {},
   "outputs": [],
   "source": [
    "# Rotate on x and z axes:\n",
    "bend_tracks = [\n",
    "    NumberKeyframeTrack(\n",
    "        name='.bones[1].rotation[x]',\n",
    "        times=[0, 0.5, 1.5, 2],\n",
    "        values=[0, 0.3, -0.3, 0]),\n",
    "    NumberKeyframeTrack(\n",
    "        name='.bones[1].rotation[z]',\n",
    "        times=[0, 0.5, 1.5, 2],\n",
    "        values=[0, 0.3, -0.3, 0]),\n",
    "    NumberKeyframeTrack(\n",
    "        name='.bones[2].rotation[x]',\n",
    "        times=[0, 0.5, 1.5, 2],\n",
    "        values=[0, -0.3, 0.3, 0]),\n",
    "    NumberKeyframeTrack(\n",
    "        name='.bones[2].rotation[z]',\n",
    "        times=[0, 0.5, 1.5, 2],\n",
    "        values=[0, -0.3, 0.3, 0]),\n",
    "]\n",
    "bend_clip = AnimationClip(tracks=bend_tracks)\n",
    "bend_action = AnimationAction(AnimationMixer(mesh), bend_clip, mesh)\n",
    "    \n",
    "# Rotate on y axis:\n",
    "wring_tracks = [\n",
    "    NumberKeyframeTrack(name='.bones[1].rotation[y]', times=[0, 0.5, 1.5, 2], values=[0, 0.7, -0.7, 0]),\n",
    "    NumberKeyframeTrack(name='.bones[2].rotation[y]', times=[0, 0.5, 1.5, 2], values=[0, 0.7, -0.7, 0]),\n",
    "]\n",
    "\n",
    "wring_clip = AnimationClip(tracks=wring_tracks)\n",
    "wring_action = AnimationAction(AnimationMixer(mesh), wring_clip, mesh)"
   ]
  },
  {
   "cell_type": "code",
   "execution_count": 39,
   "id": "bbac5789-a4ec-45c9-9af2-23963491d81b",
   "metadata": {},
   "outputs": [
    {
     "data": {
      "application/vnd.jupyter.widget-view+json": {
       "model_id": "pythree_example_model_164",
       "version_major": 2,
       "version_minor": 0
      },
      "text/plain": [
       "Renderer(camera=PerspectiveCamera(aspect=1.5, position=(40.0, 24.0, 40.0), projectionMatrix=(1.0, 0.0, 0.0, 0.…"
      ]
     },
     "metadata": {},
     "output_type": "display_data"
    }
   ],
   "source": [
    "camera4 = PerspectiveCamera(position=[40, 24, 40], aspect=view_width/view_height)\n",
    "scene4 = Scene(children=[mesh, helper, camera4,\n",
    "                         DirectionalLight(position=[3, 5, 1], intensity=0.6),\n",
    "                         AmbientLight(intensity=0.5)])\n",
    "renderer4 = Renderer(camera=camera4, scene=scene4,\n",
    "                     controls=[OrbitControls(controlling=camera4)],\n",
    "                     width=view_width, height=view_height)\n",
    "display(renderer4)"
   ]
  },
  {
   "cell_type": "code",
   "execution_count": 37,
   "id": "6217456e-bc7c-40e0-b6a6-6fb68cd6a814",
   "metadata": {},
   "outputs": [
    {
     "data": {
      "application/vnd.jupyter.widget-view+json": {
       "model_id": "pythree_example_model_140",
       "version_major": 2,
       "version_minor": 0
      },
      "text/plain": [
       "AnimationAction(clip=AnimationClip(duration=2.0, tracks=(NumberKeyframeTrack(name='.bones[1].rotation[x]', tim…"
      ]
     },
     "metadata": {},
     "output_type": "display_data"
    }
   ],
   "source": [
    "bend_action"
   ]
  },
  {
   "cell_type": "code",
   "execution_count": 38,
   "id": "2f09c522-7ff4-40d5-a473-7de04146df4d",
   "metadata": {},
   "outputs": [
    {
     "data": {
      "application/vnd.jupyter.widget-view+json": {
       "model_id": "pythree_example_model_146",
       "version_major": 2,
       "version_minor": 0
      },
      "text/plain": [
       "AnimationAction(clip=AnimationClip(duration=2.0, tracks=(NumberKeyframeTrack(name='.bones[1].rotation[y]', tim…"
      ]
     },
     "metadata": {},
     "output_type": "display_data"
    }
   ],
   "source": [
    "wring_action"
   ]
  },
  {
   "cell_type": "code",
   "execution_count": null,
   "id": "9ecd6cca-346d-4cfa-914a-422cf931cdeb",
   "metadata": {},
   "outputs": [],
   "source": []
  }
 ],
 "metadata": {
  "kernelspec": {
   "display_name": "py3js-test",
   "language": "python",
   "name": "py3js-test"
  },
  "language_info": {
   "codemirror_mode": {
    "name": "ipython",
    "version": 3
   },
   "file_extension": ".py",
   "mimetype": "text/x-python",
   "name": "python",
   "nbconvert_exporter": "python",
   "pygments_lexer": "ipython3",
   "version": "3.8.10"
  }
 },
 "nbformat": 4,
 "nbformat_minor": 5
}
