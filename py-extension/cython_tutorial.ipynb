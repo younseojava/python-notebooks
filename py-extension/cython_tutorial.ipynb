{
 "cells": [
  {
   "cell_type": "markdown",
   "id": "e5544f2c-4de8-4320-acdd-8164ae1a2b51",
   "metadata": {},
   "source": [
    "# Cython Tutorial\n",
    "ref: https://www.youtube.com/watch?v=Ic1oE6SEOBs"
   ]
  },
  {
   "cell_type": "code",
   "execution_count": 6,
   "id": "af478056-8810-48af-8b73-0e0588088bae",
   "metadata": {},
   "outputs": [
    {
     "name": "stdout",
     "output_type": "stream",
     "text": [
      "Collecting cython\n",
      "  Downloading Cython-0.29.33-cp39-cp39-manylinux_2_17_x86_64.manylinux2014_x86_64.manylinux_2_24_x86_64.whl (2.0 MB)\n",
      "\u001b[2K     \u001b[38;2;114;156;31m━━━━━━━━━━━━━━━━━━━━━━━━━━━━━━━━━━━━━━━━\u001b[0m \u001b[32m2.0/2.0 MB\u001b[0m \u001b[31m34.9 MB/s\u001b[0m eta \u001b[36m0:00:00\u001b[0m MB/s\u001b[0m eta \u001b[36m0:00:01\u001b[0m\n",
      "\u001b[?25hInstalling collected packages: cython\n",
      "Successfully installed cython-0.29.33\n"
     ]
    }
   ],
   "source": [
    "!python -m pip install cython"
   ]
  },
  {
   "cell_type": "code",
   "execution_count": null,
   "id": "9700e08a-d6e6-46dd-8b1b-297e39809140",
   "metadata": {},
   "outputs": [],
   "source": [
    "def prime_finder_vanilla(count):\n",
    "    primes = []\n",
    "    \n",
    "    found = 0\n",
    "    number = 2\n",
    "    while found < count:\n",
    "        for x in primes:\n",
    "            if number % x == 0:\n",
    "                break\n",
    "        else:\n",
    "            primes.append(number)\n",
    "            found += 1\n",
    "        number += 1\n",
    "        \n",
    "    return primes\n",
    "\n",
    "\n",
    "def prime_finder_optimized(int count):\n",
    "    \n",
    "    cdef int number, x, found\n",
    "    cdef int primes[100000]  # arbitrarily large, fixed size array\n",
    "    \n",
    "    count = min(count, 100000)\n",
    "    \n",
    "    found = 0\n",
    "    number = 2\n",
    "    while found < count:\n",
    "        for x in primes[:found]:\n",
    "            if number % x == 0:\n",
    "                break\n",
    "        else:\n",
    "            primes[found] = number\n",
    "            found += 1\n",
    "        number += 1\n",
    "    \n",
    "    return_list = [p for p in primes[:found]]\n",
    "    return return_list\n",
    "\n",
    "                \n",
    "print(prime_finder_vanilla(10))"
   ]
  },
  {
   "cell_type": "markdown",
   "id": "6b84beb3-df08-42af-9f51-29aae90f8508",
   "metadata": {},
   "source": [
    "## Setup for Cython\n",
    "\n",
    "1. In command shell, create cythonized source file, including C-extensions, and save with `.pyx` extension: `main.pyx`\n",
    "1. In command shell, create setup.py\n",
    "    ```python\n",
    "    from setuptools import setup\n",
    "    from Cython.Build import cythonize\n",
    "\n",
    "    setup(\n",
    "        ext_modules=cythonize('main.pyx')\n",
    "    )\n",
    "    \n",
    "    ```\n",
    "1. Build extension (or compile with C extension):\n",
    "    ```\n",
    "    python setup.py build_ext --inplace\n",
    "\n",
    "    Compiling main.pyx because it changed.\n",
    "    [1/1] Cythonizing main.pyx\n",
    "    /mnt/beegfs/home/yroh/venv_py3913/lib/python3.9/site-packages/Cython/Compiler/Main.py:369: FutureWarning: Cython directive 'language_level' not set, using 2 for now (Py2). This will change in a later release! File: /mnt/beegfs/home/yroh/sandbox/cython/main.pyx\n",
    "      tree = Parsing.p_module(s, pxd, full_module_name)\n",
    "    running build_ext\n",
    "    building 'main' extension\n",
    "    creating build\n",
    "    creating build/temp.linux-x86_64-3.9\n",
    "    /usr/bin/gcc -pthread -Wno-unused-result -Wsign-compare -DNDEBUG -g -fwrapv -O3 -Wall -fPIC -fPIC -I/mnt/beegfs/home/yroh/venv_py3913/include -I/mnt/beegfs/software/spack/opt/spack/linux-ubuntu20.04-zen2/gcc-9.4.0/python-3.9.13-3kr6zvqo2zlowhgyzj4ox6qfvbpgcglj/include/python3.9 -c main.c -o build/temp.linux-x86_64-3.9/main.o\n",
    "    creating build/lib.linux-x86_64-3.9\n",
    "    /usr/bin/gcc -pthread -shared -L/mnt/beegfs/software/spack/opt/spack/linux-ubuntu20.04-zen2/gcc-9.4.0/bzip2-1.0.8-tncke62bbpty2zkapoo2y6imzc3mg7s7/lib -L/mnt/beegfs/software/spack/opt/spack/linux-ubuntu20.04-zen2/gcc-9.4.0/expat-2.4.8-gsbkah7x4xek5oplbtotnztenoz4napi/lib -L/mnt/beegfs/software/spack/opt/spack/linux-ubuntu20.04-zen2/gcc-9.4.0/gdbm-1.23-o7jzeqzshqsltt7zztlhyodthvwibihv/lib -L/mnt/beegfs/software/spack/opt/spack/linux-ubuntu20.04-zen2/gcc-9.4.0/gettext-0.21.1-6xp3q5o5vprzxjmt24i7y72efmrogy4x/lib -L/mnt/beegfs/software/spack/opt/spack/linux-ubuntu20.04-zen2/gcc-9.4.0/libffi-3.4.2-4js4tqr7aplvgugudrqivl2kdp5jluqe/lib -L/mnt/beegfs/software/spack/opt/spack/linux-ubuntu20.04-zen2/gcc-9.4.0/ncurses-6.3-eupgjpk5754pj6uvss4agusnugnmvacb/lib -L/mnt/beegfs/software/spack/opt/spack/linux-ubuntu20.04-zen2/gcc-9.4.0/openssl-1.1.1s-pgmns2wx4p2vmkwlzsl242xneqad7lwi/lib -L/mnt/beegfs/software/spack/opt/spack/linux-ubuntu20.04-zen2/gcc-9.4.0/readline-8.1.2-ahpg44ypihqievdfqhbkaf2ml4dwl2nh/lib -L/mnt/beegfs/software/spack/opt/spack/linux-ubuntu20.04-zen2/gcc-9.4.0/sqlite-3.39.4-taglkp3pwas6hvk4xmbz7wytnuby5ax4/lib -L/mnt/beegfs/software/spack/opt/spack/linux-ubuntu20.04-zen2/gcc-9.4.0/util-linux-uuid-2.38.1-ogcpxdo4amufb56rd3ibsmakrwxnl4gl/lib -L/mnt/beegfs/software/spack/opt/spack/linux-ubuntu20.04-zen2/gcc-9.4.0/xz-5.2.7-rflyw4ihch6tqqbmmot6wrltviyqqdlz/lib -L/mnt/beegfs/software/spack/opt/spack/linux-ubuntu20.04-zen2/gcc-9.4.0/zlib-1.2.13-r7prbd7viq4mp4pi3bvvlscbxluhpljp/lib build/temp.linux-x86_64-3.9/main.o -L/mnt/beegfs/software/spack/opt/spack/linux-ubuntu20.04-zen2/gcc-9.4.0/python-3.9.13-3kr6zvqo2zlowhgyzj4ox6qfvbpgcglj/lib -o build/lib.linux-x86_64-3.9/main.cpython-39-x86_64-linux-gnu.so\n",
    "    copying build/lib.linux-x86_64-3.9/main.cpython-39-x86_64-linux-gnu.so ->\n",
    "    \n",
    "    ```\n",
    "1. Create `test.py` to call the defined functions and measure performance\n",
    "    ```python\n",
    "    import main\n",
    "    import time\n",
    "\n",
    "    start_vanilla = time.time()\n",
    "    main.prime_finder_vanilla(50000)\n",
    "    end_vanilla = time.time()\n",
    "\n",
    "    print(end_vanilla - start_vanilla)\n",
    "\n",
    "    start_c = time.time()\n",
    "    main.prime_finder_optimized(50000)\n",
    "    end_c = time.time()\n",
    "\n",
    "    print(end_c - start_c)\n",
    "    \n",
    "    ```\n"
   ]
  },
  {
   "cell_type": "code",
   "execution_count": 8,
   "id": "db02c296-2e59-48ba-a788-f821b4c4e7f4",
   "metadata": {},
   "outputs": [
    {
     "name": "stdout",
     "output_type": "stream",
     "text": [
      "6.478883266448975\n",
      "0.8648514747619629\n"
     ]
    }
   ],
   "source": [
    "!python test.py"
   ]
  },
  {
   "cell_type": "markdown",
   "id": "b3f910d6-1ef3-493d-990e-4f8fec17e7df",
   "metadata": {},
   "source": [
    "7 - 8X speed up!\n",
    "<br>\n",
    "<br>\n",
    "**NOTE** It's big speed up, but according to the below lecture, Cython usually gives 100x even 1000x speed-up compared to regular Python. Need to investigate deeper on the above case.\n"
   ]
  },
  {
   "cell_type": "markdown",
   "id": "4eebb1ac-f498-47a6-853d-ed18f8713d1b",
   "metadata": {},
   "source": [
    "-------\n",
    "## Comparing codes: python, C/C++, cython\n",
    "- Ref: https://www.youtube.com/watch?v=gMvkiQ-gOW8\n",
    "\n",
    "### Python\n",
    "```python\n",
    "def fib(n):\n",
    "    a, b = 1, 1\n",
    "    for i in range(n):\n",
    "        a, b = a + b, a\n",
    "    return a\n",
    "```\n",
    "### C/C++\n",
    "```c\n",
    "int fib(int n)\n",
    "{\n",
    "    int tmp, i, a, b;\n",
    "    a = b = 1;\n",
    "    for (i = 0; i < n; i++) {\n",
    "        tmp = a; a += b; b = tmp;\n",
    "    }\n",
    "    return a;\n",
    "}\n",
    "```\n",
    "### Cython\n",
    "```python\n",
    "def fib(int n):\n",
    "    cdef int i, a, b\n",
    "    a, b = 1, 1\n",
    "    for i in range(n):\n",
    "        a, b = a + b, a\n",
    "    return a\n",
    "```\n",
    "\n",
    "Cython just adds **static typing** of variables in Python code. Minimal changes. You can utilize existing Python code base, your knowledge of Python, and with little addition you get big performance boost."
   ]
  },
  {
   "cell_type": "markdown",
   "id": "40b8ca83-d70b-4017-9c58-12edcf58efb6",
   "metadata": {},
   "source": [
    "### Hand-written extension module\n",
    "```c\n",
    "#include \"Python.h\"\n",
    "\n",
    "static PyObject* fib(PyObject *self, PyObject *args)\n",
    "{\n",
    "    int n, a, b, i, tmp;\n",
    "    if (!PyArg_ParseTuple(args, \"i\", &n))\n",
    "        return NULL;\n",
    "    a = b = 1;\n",
    "    for (i=0; i<n; i++) {\n",
    "        tmp = a; a += b; b = tmp;\n",
    "    }\n",
    "    return PyBuildValue(\"i\", a);\n",
    "}\n",
    "\n",
    "static PyMethodDef ExampleMethods[] = {\n",
    "    {\"fib\", fib, METH_VARAGS, \"\"},\n",
    "    {NULL, NULL, 0, NULL}    /* Sentinel */\n",
    "};\n",
    "\n",
    "PyMODINIT_FUNC\n",
    "initfib(void)\n",
    "{\n",
    "    (void) Py_InitModule(\"fib\", ExampleMethods);\n",
    "}\n",
    "```\n",
    "\n",
    "Compare this with Cython function. Also, often this hand-written extension modules are not faster than Cython codes, which does a lot of work underneath for efficient execution.<br>\n",
    "Here are additional Cython features:\n",
    "- Built-in support for NumPy\n",
    "- Integrates well with IPython\n",
    "- Foundational to Scientific Python ecosystem\n"
   ]
  },
  {
   "cell_type": "markdown",
   "id": "6005e1ed-da1a-4531-95f3-0996fa96986f",
   "metadata": {},
   "source": [
    "## Cython Worklow\n",
    "![Cython workflow](cython_flow.png)"
   ]
  },
  {
   "cell_type": "markdown",
   "id": "ecd39327-a1f6-4316-b2c0-d193cba86f1c",
   "metadata": {},
   "source": [
    "## Comparison: CPython vs Cython\n",
    "- Ref: https://blog.paperspace.com/boosting-python-scripts-cython/\n",
    "### CPython both compiles and interprets\n",
    "Python source (.py) -> CPython compiler -> CPython Bytecode (.pyc) -> CPython interpreter -> CPython VM -> Runs on different platform\n"
   ]
  },
  {
   "cell_type": "code",
   "execution_count": null,
   "id": "ccac5479-b689-4ae3-b809-8afcb6f21f01",
   "metadata": {},
   "outputs": [],
   "source": []
  }
 ],
 "metadata": {
  "kernelspec": {
   "display_name": "Python 3.9 (venv)",
   "language": "python",
   "name": "venv_py39"
  },
  "language_info": {
   "codemirror_mode": {
    "name": "ipython",
    "version": 3
   },
   "file_extension": ".py",
   "mimetype": "text/x-python",
   "name": "python",
   "nbconvert_exporter": "python",
   "pygments_lexer": "ipython3",
   "version": "3.9.13"
  }
 },
 "nbformat": 4,
 "nbformat_minor": 5
}
