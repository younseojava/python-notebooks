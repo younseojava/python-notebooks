{
 "cells": [
  {
   "cell_type": "code",
   "execution_count": 3,
   "id": "e46d4abf-a2c6-422a-afa7-3925ff851443",
   "metadata": {},
   "outputs": [
    {
     "name": "stdout",
     "output_type": "stream",
     "text": [
      "Defaulting to user installation because normal site-packages is not writeable\n",
      "Collecting ipywebrtc\n",
      "  Downloading ipywebrtc-0.6.0-py2.py3-none-any.whl (260 kB)\n",
      "\u001b[2K     \u001b[38;2;114;156;31m━━━━━━━━━━━━━━━━━━━━━━━━━━━━━━━━━━━━━━\u001b[0m \u001b[32m260.7/260.7 kB\u001b[0m \u001b[31m10.5 MB/s\u001b[0m eta \u001b[36m0:00:00\u001b[0m\n",
      "\u001b[?25hInstalling collected packages: ipywebrtc\n",
      "Successfully installed ipywebrtc-0.6.0\n"
     ]
    }
   ],
   "source": [
    "!pip install ipywebrtc"
   ]
  },
  {
   "cell_type": "code",
   "execution_count": 1,
   "id": "a17f77c9-7560-46fc-a20c-07c5d1ef4ffe",
   "metadata": {},
   "outputs": [],
   "source": [
    "from pythreejs import *\n",
    "import ipywebrtc\n",
    "from ipywidgets import Output, VBox"
   ]
  },
  {
   "cell_type": "code",
   "execution_count": 5,
   "id": "d533c686-c6f1-4272-a0a2-4af57e61d006",
   "metadata": {},
   "outputs": [
    {
     "data": {
      "application/vnd.jupyter.widget-view+json": {
       "model_id": "c11b05bf346e422d9f446234ff31a6d2",
       "version_major": 2,
       "version_minor": 0
      },
      "text/plain": [
       "Renderer(camera=PerspectiveCamera(aspect=1.5, position=(10.0, 6.0, 10.0), projectionMatrix=(1.0, 0.0, 0.0, 0.0…"
      ]
     },
     "metadata": {},
     "output_type": "display_data"
    }
   ],
   "source": [
    "view_width, view_height = 600, 400\n",
    "\n",
    "sphere = Mesh(SphereBufferGeometry(1, 32, 16), MeshStandardMaterial(color='red'))\n",
    "\n",
    "cube = Mesh(BoxBufferGeometry(1, 1, 2), MeshPhysicalMaterial(color='green'), Position=[2, 0, 4])\n",
    "\n",
    "camera = PerspectiveCamera(position=[10, 6, 10], aspect=view_width/view_height)\n",
    "key_light = DirectionalLight(position=[0, 10, 10])\n",
    "ambient_light = AmbientLight()\n",
    "\n",
    "scene = Scene(children=[sphere, cube, camera, key_light, ambient_light])\n",
    "controller = OrbitControls(controlling=camera)\n",
    "renderer = Renderer(camera=camera, scene=scene, controls=[controller], width=view_width, height=view_height)\n",
    "\n",
    "renderer"
   ]
  },
  {
   "cell_type": "markdown",
   "id": "6a4cad53-f362-458a-9ed0-334d765c5b84",
   "metadata": {},
   "source": [
    "## Capture renderer output to stream\n",
    "\n",
    "**NOTE**  `ipywebrtc` does not work yet."
   ]
  },
  {
   "cell_type": "code",
   "execution_count": 4,
   "id": "bdb66444-e96a-43f9-b277-172396a0828f",
   "metadata": {},
   "outputs": [
    {
     "data": {
      "text/plain": [
       "\u001b[0;31mType:\u001b[0m           Renderer\n",
       "\u001b[0;31mString form:\u001b[0m    Renderer(camera=PerspectiveCamera(aspect=1.5, position=(4.3712443224875095, 2.7716429039349424, 0 <...> n=(0.0, 0.0, 0.0, 'XYZ'), scale=(1.0, 1.0, 1.0), up=(0.0, 1.0, 0.0)), shadowMap=WebGLShadowMap())\n",
       "\u001b[0;31mFile:\u001b[0m           ~/.local/lib/python3.8/site-packages/pythreejs/core/Renderer.py\n",
       "\u001b[0;31mDocstring:\u001b[0m     \n",
       "Renderer\n",
       "    \n",
       "\u001b[0;31mInit docstring:\u001b[0m Public constructor\n"
      ]
     },
     "metadata": {},
     "output_type": "display_data"
    }
   ],
   "source": [
    "renderer?"
   ]
  },
  {
   "cell_type": "code",
   "execution_count": 3,
   "id": "0faecd49-c453-46da-b114-5a58f54fbd81",
   "metadata": {},
   "outputs": [
    {
     "data": {
      "application/vnd.jupyter.widget-view+json": {
       "model_id": "95b692822f954a108f7acd0c7642a511",
       "version_major": 2,
       "version_minor": 0
      },
      "text/plain": [
       "WidgetStream(max_fps=30, widget=Renderer(camera=PerspectiveCamera(aspect=1.5, position=(4.601309813144744, 2.9…"
      ]
     },
     "metadata": {},
     "output_type": "display_data"
    }
   ],
   "source": [
    "stream = ipywebrtc.WidgetStream(widget=renderer, max_fps=30)\n",
    "\n",
    "display(stream)"
   ]
  },
  {
   "cell_type": "code",
   "execution_count": 11,
   "id": "8fb349d4-3fe3-4659-ab2d-618ccdc23918",
   "metadata": {},
   "outputs": [],
   "source": [
    "recorder = ipywebrtc.ImageRecorder(filename='snapshot', format='png', stream=stream)"
   ]
  },
  {
   "cell_type": "code",
   "execution_count": 12,
   "id": "fe1cb13d-3f4a-4524-8e96-dc129fb40b55",
   "metadata": {},
   "outputs": [
    {
     "data": {
      "application/vnd.jupyter.widget-view+json": {
       "model_id": "4119d9628e18436eaf38d82ca3b3905a",
       "version_major": 2,
       "version_minor": 0
      },
      "text/plain": [
       "ImageRecorder(filename='snapshot', image=Image(value=b''), stream=WidgetStream(max_fps=30, widget=Renderer(cam…"
      ]
     },
     "metadata": {},
     "output_type": "display_data"
    }
   ],
   "source": [
    "recorder"
   ]
  },
  {
   "cell_type": "code",
   "execution_count": 13,
   "id": "ff939d6b-933f-4c7e-87e4-5239f32e4a4a",
   "metadata": {},
   "outputs": [
    {
     "data": {
      "application/vnd.jupyter.widget-view+json": {
       "model_id": "7468b549cef84fa489fa026131716ca5",
       "version_major": 2,
       "version_minor": 0
      },
      "text/plain": [
       "Output()"
      ]
     },
     "metadata": {},
     "output_type": "display_data"
    }
   ],
   "source": [
    "out = Output()     # to capture print output\n",
    "\n",
    "@out.capture()\n",
    "def on_capture(change):\n",
    "    print('Captured image changed!')\n",
    "\n",
    "recorder.image.observe(on_capture, 'value')\n",
    "out"
   ]
  },
  {
   "cell_type": "code",
   "execution_count": 14,
   "id": "b2ceacb9-c744-4bc6-862b-81edf2b9c1ab",
   "metadata": {},
   "outputs": [
    {
     "data": {
      "application/vnd.jupyter.widget-view+json": {
       "model_id": "7468b549cef84fa489fa026131716ca5",
       "version_major": 2,
       "version_minor": 0
      },
      "text/plain": [
       "Output()"
      ]
     },
     "metadata": {},
     "output_type": "display_data"
    }
   ],
   "source": [
    "out"
   ]
  },
  {
   "cell_type": "code",
   "execution_count": 9,
   "id": "dcf717da-9d68-4acd-be79-4ec061393dbe",
   "metadata": {},
   "outputs": [],
   "source": [
    "from ipywebrtc import WidgetStream, VideoStream\n",
    "from ipywidgets import FloatSlider\n",
    "\n",
    "slider = FloatSlider(value=7.5, step=0.1, description='Test:', disabled=False,\n",
    "                     continuous_update=False, orientation='horizontal', readout=True, readout_format='.1f',)"
   ]
  },
  {
   "cell_type": "code",
   "execution_count": 10,
   "id": "b774e854-27aa-4d5c-b042-c2971830e438",
   "metadata": {},
   "outputs": [
    {
     "data": {
      "application/vnd.jupyter.widget-view+json": {
       "model_id": "a0bca45fc939460e8da52a5d02e7dc7e",
       "version_major": 2,
       "version_minor": 0
      },
      "text/plain": [
       "WidgetStream(max_fps=1, widget=FloatSlider(value=7.5, continuous_update=False, description='Test:', readout_fo…"
      ]
     },
     "metadata": {},
     "output_type": "display_data"
    }
   ],
   "source": [
    "widget_stream = WidgetStream(widget=slider, max_fps=1)\n",
    "widget_stream"
   ]
  },
  {
   "cell_type": "code",
   "execution_count": null,
   "id": "0f374cbb-c8d6-496e-a7df-e02b334bcdc2",
   "metadata": {},
   "outputs": [],
   "source": []
  }
 ],
 "metadata": {
  "kernelspec": {
   "display_name": "py3js-test",
   "language": "python",
   "name": "py3js-test"
  },
  "language_info": {
   "codemirror_mode": {
    "name": "ipython",
    "version": 3
   },
   "file_extension": ".py",
   "mimetype": "text/x-python",
   "name": "python",
   "nbconvert_exporter": "python",
   "pygments_lexer": "ipython3",
   "version": "3.8.10"
  }
 },
 "nbformat": 4,
 "nbformat_minor": 5
}
