{
 "cells": [
  {
   "cell_type": "markdown",
   "id": "c14cccaa-d6ee-47d2-870b-f4f1aeb98932",
   "metadata": {},
   "source": [
    "# ChatGPT Code Completion Example\n",
    "Today, I've tried out chatGPT, and tested its code completion feature. Given prompts to write a code as a comment, chatGPT ponders about a minute and spitted out code.\n",
    "Quality was impressive. The site says, Python code completion is most advanced, and I had a chance to test out Javascript and html; it seems Python code was a lot better than Javascript one.\n",
    "Here are couple of examples I've tried. They are regular coding interview questions. CG understands natural language prompt, and generates full working code, even with functions and main."
   ]
  },
  {
   "cell_type": "markdown",
   "id": "11490c72-52b4-49c1-ba8c-7e8b35d57a60",
   "metadata": {},
   "source": [
    "**Prompt given:**\n",
    "```\n",
    "\"\"\"\n",
    "1. Given a map of land and ocean in two-dimensional integer array\n",
    "2. 1 is land, 0 is water\n",
    "3. Count the number of islands. Islands are defined as a piece of land wholly surrounded by water.\n",
    "\"\"\"\n",
    "```"
   ]
  },
  {
   "cell_type": "markdown",
   "id": "fe939a8d-e83b-441a-96b2-137748032553",
   "metadata": {},
   "source": [
    "**Generated code:**"
   ]
  },
  {
   "cell_type": "code",
   "execution_count": 5,
   "id": "2b55fe68-cb28-4897-b312-9fb35e85b08c",
   "metadata": {},
   "outputs": [
    {
     "name": "stdout",
     "output_type": "stream",
     "text": [
      "3\n"
     ]
    }
   ],
   "source": [
    "def count_islands(map):\n",
    "    if not map:\n",
    "        return 0\n",
    "    count = 0\n",
    "    for i in range(len(map)):\n",
    "        for j in range(len(map[0])):\n",
    "            if map[i][j] == 1:\n",
    "                count += 1\n",
    "                dfs(map, i, j)\n",
    "    return count\n",
    "\n",
    "def dfs(map, i, j):\n",
    "    if i < 0 or i >= len(map) or j < 0 or j >= len(map[0]) or map[i][j] != 1:\n",
    "        return\n",
    "    map[i][j] = -1\n",
    "    dfs(map, i + 1, j)\n",
    "    dfs(map, i - 1, j)\n",
    "    dfs(map, i, j + 1)\n",
    "    dfs(map, i, j - 1)\n",
    "\n",
    "map = [[1, 1, 0, 0, 0],\n",
    "       [0, 1, 0, 0, 1],\n",
    "       [1, 0, 1, 1, 1],\n",
    "       [0, 0, 0, 0, 0]]\n",
    "print(count_islands(map))\n"
   ]
  },
  {
   "cell_type": "markdown",
   "id": "414517b3-5434-40c4-b983-983d95ba71eb",
   "metadata": {},
   "source": [
    "**Prompt given:**\n",
    "```\n",
    "\"\"\"\n",
    "1. Given a graph\n",
    "2. Find the minimum spanning tree\n",
    "\"\"\"\n",
    "```"
   ]
  },
  {
   "cell_type": "markdown",
   "id": "f8e9e01b-f54d-4bc8-b826-b5a64f4b2b41",
   "metadata": {},
   "source": [
    "**Generated code:**"
   ]
  },
  {
   "cell_type": "code",
   "execution_count": 6,
   "id": "1aa715de-f8fa-4bd2-8387-270f96cb5ea3",
   "metadata": {},
   "outputs": [
    {
     "name": "stdout",
     "output_type": "stream",
     "text": [
      "1 -- 3 == 2\n",
      "2 -- 3 == 4\n",
      "0 -- 3 == 5\n"
     ]
    }
   ],
   "source": [
    "from collections import defaultdict\n",
    "\n",
    "class Graph:\n",
    "    def __init__(self, vertices):\n",
    "        self.V = vertices\n",
    "        self.graph = []\n",
    "\n",
    "    def addEdge(self, u, v, w):\n",
    "        self.graph.append([u, v, w])\n",
    "\n",
    "    def find(self, parent, i):\n",
    "        if parent[i] == i:\n",
    "            return i\n",
    "        return self.find(parent, parent[i])\n",
    "\n",
    "    def union(self, parent, rank, x, y):\n",
    "        xroot = self.find(parent, x)\n",
    "        yroot = self.find(parent, y)\n",
    "\n",
    "        if rank[xroot] < rank[yroot]:\n",
    "            parent[xroot] = yroot\n",
    "        elif rank[xroot] > rank[yroot]:\n",
    "            parent[yroot] = xroot\n",
    "        else:\n",
    "            parent[yroot] = xroot\n",
    "            rank[xroot] += 1\n",
    "\n",
    "    def KruskalMST(self):\n",
    "        result = []\n",
    "        i = 0\n",
    "        e = 0\n",
    "        self.graph = sorted(self.graph, key=lambda item: item[2])\n",
    "        parent = []\n",
    "        rank = []\n",
    "\n",
    "        for node in range(self.V):\n",
    "            parent.append(node)\n",
    "            rank.append(0)\n",
    "\n",
    "        while e < self.V - 1:\n",
    "            u, v, w = self.graph[i]\n",
    "            i += 1\n",
    "            x = self.find(parent, u)\n",
    "            y = self.find(parent, v)\n",
    "\n",
    "            if x != y:\n",
    "                e += 1\n",
    "                result.append([u, v, w])\n",
    "                self.union(parent, rank, x, y)\n",
    "\n",
    "        for u, v, weight in result:\n",
    "            print(\"%d -- %d == %d\" % (u, v, weight))\n",
    "\n",
    "g = Graph(4)\n",
    "g.addEdge(0, 1, 10)\n",
    "g.addEdge(0, 2, 6)\n",
    "g.addEdge(0, 3, 5)\n",
    "# g.addEdge(1, 3, 15)\n",
    "g.addEdge(1, 3, 2)\n",
    "g.addEdge(2, 3, 4)\n",
    "\n",
    "g.KruskalMST()\n"
   ]
  },
  {
   "attachments": {},
   "cell_type": "markdown",
   "id": "250189ce-5787-425e-86cf-b4613971e18b",
   "metadata": {},
   "source": [
    "CG generates code (maybe from db of collected coding interviwe samples, but anyhow understands context as MST), picking union & find alogorithm for MST problem."
   ]
  },
  {
   "attachments": {},
   "cell_type": "markdown",
   "id": "ecf12483",
   "metadata": {},
   "source": [
    "Next is about convex hull problem. I did not use the term 'convex hull' but from prompt, CG figured it is a convex hull problem, and even suggest a relevant scipy library and the right function. It also figures out how to visualize the solution. Again, it is possible that the prompt is very typical one with very high weight from training. But again, it is impressive it is able to connect all the pieces together to produce the answer in a clean and concise way."
   ]
  },
  {
   "attachments": {},
   "cell_type": "markdown",
   "id": "5acd18d1",
   "metadata": {},
   "source": [
    "**Setup**"
   ]
  },
  {
   "cell_type": "code",
   "execution_count": null,
   "id": "5de7df2f",
   "metadata": {},
   "outputs": [],
   "source": [
    "!python -m pip install scipy"
   ]
  },
  {
   "attachments": {},
   "cell_type": "markdown",
   "id": "433f0169",
   "metadata": {},
   "source": [
    "**Prompt given:**\n",
    "```\n",
    "\"\"\"\n",
    "1. given a list of 3-D point coordinates\n",
    "2. find the volume of the minimum enclosing surface\n",
    "\"\"\"\n",
    "```"
   ]
  },
  {
   "attachments": {},
   "cell_type": "markdown",
   "id": "620135f7",
   "metadata": {},
   "source": [
    "**Code generated:**"
   ]
  },
  {
   "cell_type": "code",
   "execution_count": null,
   "id": "6aeb7a87-4f4f-44e7-b1ff-ca404a949bca",
   "metadata": {},
   "outputs": [
    {
     "ename": "ModuleNotFoundError",
     "evalue": "No module named 'scipy'",
     "output_type": "error",
     "traceback": [
      "\u001b[0;31m---------------------------------------------------------------------------\u001b[0m",
      "\u001b[0;31mModuleNotFoundError\u001b[0m                       Traceback (most recent call last)",
      "Cell \u001b[0;32mIn[7], line 4\u001b[0m\n\u001b[1;32m      2\u001b[0m \u001b[39mimport\u001b[39;00m \u001b[39mmatplotlib\u001b[39;00m\u001b[39m.\u001b[39;00m\u001b[39mpyplot\u001b[39;00m \u001b[39mas\u001b[39;00m \u001b[39mplt\u001b[39;00m\n\u001b[1;32m      3\u001b[0m \u001b[39mfrom\u001b[39;00m \u001b[39mmpl_toolkits\u001b[39;00m\u001b[39m.\u001b[39;00m\u001b[39mmplot3d\u001b[39;00m \u001b[39mimport\u001b[39;00m Axes3D\n\u001b[0;32m----> 4\u001b[0m \u001b[39mfrom\u001b[39;00m \u001b[39mscipy\u001b[39;00m\u001b[39m.\u001b[39;00m\u001b[39mspatial\u001b[39;00m \u001b[39mimport\u001b[39;00m ConvexHull\n\u001b[1;32m      6\u001b[0m \u001b[39mdef\u001b[39;00m \u001b[39mmain\u001b[39m():\n\u001b[1;32m      7\u001b[0m     \u001b[39m# generate random points\u001b[39;00m\n\u001b[1;32m      8\u001b[0m     points \u001b[39m=\u001b[39m np\u001b[39m.\u001b[39mrandom\u001b[39m.\u001b[39mrand(\u001b[39m30\u001b[39m, \u001b[39m3\u001b[39m)\n",
      "\u001b[0;31mModuleNotFoundError\u001b[0m: No module named 'scipy'"
     ]
    }
   ],
   "source": [
    "import numpy as np\n",
    "import matplotlib.pyplot as plt\n",
    "from mpl_toolkits.mplot3d import Axes3D\n",
    "from scipy.spatial import ConvexHull\n",
    "\n",
    "def main():\n",
    "    # generate random points\n",
    "    points = np.random.rand(30, 3)\n",
    "    # find the convex hull\n",
    "    hull = ConvexHull(points)\n",
    "    # plot the points\n",
    "    fig = plt.figure()\n",
    "    ax = fig.add_subplot(111, projection='3d')\n",
    "    ax.scatter(points[:,0], points[:,1], points[:,2])\n",
    "    # plot the convex hull\n",
    "    for simplex in hull.simplices:\n",
    "        ax.plot(points[simplex, 0], points[simplex, 1], points[simplex, 2], 'k-')\n",
    "    plt.show()\n",
    "\n",
    "if __name__ == '__main__':\n",
    "    main()"
   ]
  }
 ],
 "metadata": {
  "kernelspec": {
   "display_name": "Python 3.9 (venv)",
   "language": "python",
   "name": "venv_py39"
  },
  "language_info": {
   "codemirror_mode": {
    "name": "ipython",
    "version": 3
   },
   "file_extension": ".py",
   "mimetype": "text/x-python",
   "name": "python",
   "nbconvert_exporter": "python",
   "pygments_lexer": "ipython3",
   "version": "3.9.13"
  }
 },
 "nbformat": 4,
 "nbformat_minor": 5
}
