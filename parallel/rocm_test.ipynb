{
 "cells": [
  {
   "cell_type": "markdown",
   "id": "bfba16fa-70f1-4a2d-a069-00446e260299",
   "metadata": {},
   "source": [
    "# How to use `rocm-smi` in Python"
   ]
  },
  {
   "cell_type": "markdown",
   "id": "314e08e2-70d2-4cd8-b76a-472990dd9e23",
   "metadata": {},
   "source": [
    "Ref: https://github.com/ROCmSoftwarePlatform/rocWaves/blob/14ed0728fec79d7e5a5a87329620d612a23cc3cb/tests/getspecs.py"
   ]
  },
  {
   "cell_type": "code",
   "execution_count": 1,
   "id": "3c11574e-e290-4b8f-bba4-c0010a9470c2",
   "metadata": {},
   "outputs": [],
   "source": [
    "def _subprocess_helper(cmd, *args, **kwargs):\n",
    "    import subprocess\n",
    "    import tempfile\n",
    "    fout = tempfile.TemporaryFile(mode=\"w+\")\n",
    "    ferr = tempfile.TemporaryFile(mode=\"w+\")\n",
    "    cout = \"\"\n",
    "    success = False\n",
    "    try:\n",
    "        p = subprocess.Popen(cmd, stdout=fout, stderr=ferr, *args, **kwargs)\n",
    "        p.wait()\n",
    "        fout.seek(0)\n",
    "        cout = fout.read()\n",
    "        success = True\n",
    "    except subprocess.CalledProcessError:\n",
    "        pass\n",
    "    except FileNotFoundError:\n",
    "        pass\n",
    "    return success, cout"
   ]
  },
  {
   "cell_type": "code",
   "execution_count": 2,
   "id": "7c67b7be-0e43-4308-a129-4d98f11f321d",
   "metadata": {},
   "outputs": [
    {
     "data": {
      "text/plain": [
       "'mun-node-18'"
      ]
     },
     "execution_count": 2,
     "metadata": {},
     "output_type": "execute_result"
    }
   ],
   "source": [
    "def gethostname():\n",
    "    import socket\n",
    "    hostname = socket.gethostname()\n",
    "    return hostname\n",
    "\n",
    "gethostname()"
   ]
  },
  {
   "cell_type": "code",
   "execution_count": 3,
   "id": "148a61b0-65fd-4236-b92f-b7c6ff56db7b",
   "metadata": {},
   "outputs": [
    {
     "data": {
      "text/plain": [
       "'AMD EPYC 7643 48-Core Processor'"
      ]
     },
     "execution_count": 3,
     "metadata": {},
     "output_type": "execute_result"
    }
   ],
   "source": [
    "def getcpu():\n",
    "    cmd = [\"lscpu\"]\n",
    "    success, cout = _subprocess_helper(cmd)\n",
    "    if not success:\n",
    "        return \"N/A\"\n",
    "    cpulist = \"\"\n",
    "    searchstr = \"Model name:\"\n",
    "    for line in cout.split(\"\\n\"):\n",
    "        if line.startswith(searchstr):\n",
    "            cpulist += line[len(searchstr):].strip()\n",
    "    return cpulist\n",
    "\n",
    "getcpu()"
   ]
  },
  {
   "cell_type": "code",
   "execution_count": 4,
   "id": "d343211d-cbc5-4cb5-be01-956243277343",
   "metadata": {},
   "outputs": [
    {
     "data": {
      "text/plain": [
       "'5.15.0-46-generic'"
      ]
     },
     "execution_count": 4,
     "metadata": {},
     "output_type": "execute_result"
    }
   ],
   "source": [
    "def getkernel():\n",
    "    import subprocess\n",
    "    cmd = [\"uname\", \"-r\"]\n",
    "    import tempfile\n",
    "    success, cout = _subprocess_helper(cmd)\n",
    "    if not success:\n",
    "        return \"N/A\"\n",
    "    return cout.strip()\n",
    "\n",
    "getkernel()"
   ]
  },
  {
   "cell_type": "code",
   "execution_count": 5,
   "id": "a2a8540a-23f7-4702-8e48-ee6ea3b75608",
   "metadata": {},
   "outputs": [
    {
     "data": {
      "text/plain": [
       "'514GiB'"
      ]
     },
     "execution_count": 5,
     "metadata": {},
     "output_type": "execute_result"
    }
   ],
   "source": [
    "# Get the host ram size\n",
    "def getram():\n",
    "    import re\n",
    "    cmd = [\"lshw\", \"-class\",  \"memory\"]\n",
    "    success, cout = _subprocess_helper(cmd)\n",
    "    if not success:\n",
    "        return \"N/A\"\n",
    "    searchstr = \"size:\"\n",
    "    for line in cout.split(\"\\n\"):\n",
    "        m = re.search(searchstr, line)\n",
    "        if not m == None:\n",
    "            return line.strip()[len(searchstr):].strip()\n",
    "\n",
    "getram()"
   ]
  },
  {
   "cell_type": "code",
   "execution_count": 6,
   "id": "99ed54ee-e903-4568-b7c5-487521a30142",
   "metadata": {},
   "outputs": [
    {
     "data": {
      "text/plain": [
       "'Ubuntu 20.04.5 LTS'"
      ]
     },
     "execution_count": 6,
     "metadata": {},
     "output_type": "execute_result"
    }
   ],
   "source": [
    "# Get the Linux distro information\n",
    "def getdistro():\n",
    "    cmd = [\"lsb_release\", \"-a\"]\n",
    "    success, cout = _subprocess_helper(cmd)\n",
    "    if not success:\n",
    "        return \"N/A\"\n",
    "    searchstr = \"Description:\"\n",
    "    for line in cout.split(\"\\n\"):\n",
    "        if line.startswith(searchstr):\n",
    "            return line[len(searchstr):].strip()\n",
    "\n",
    "getdistro()"
   ]
  },
  {
   "cell_type": "code",
   "execution_count": 7,
   "id": "11857f15-82ba-43f3-bad9-e77b92a26785",
   "metadata": {},
   "outputs": [
    {
     "data": {
      "text/plain": [
       "'5.4.0.50400-72~20.04'"
      ]
     },
     "execution_count": 7,
     "metadata": {},
     "output_type": "execute_result"
    }
   ],
   "source": [
    "# Get the version number for rocm\n",
    "def getrocmversion():\n",
    "    cmd = [\"apt\", \"show\", \"rocm-libs\"]\n",
    "    success, cout = _subprocess_helper(cmd)\n",
    "    if not success:\n",
    "        return \"N/A\"\n",
    "    searchstr = \"Version:\"\n",
    "    for line in cout.split(\"\\n\"):\n",
    "        if line.startswith(searchstr):\n",
    "            return line[len(searchstr):].strip()\n",
    "\n",
    "getrocmversion()"
   ]
  },
  {
   "cell_type": "code",
   "execution_count": 8,
   "id": "71590620-c0e8-4369-9eae-98a8fba93b02",
   "metadata": {},
   "outputs": [
    {
     "data": {
      "text/plain": [
       "'113-D65209-063'"
      ]
     },
     "execution_count": 8,
     "metadata": {},
     "output_type": "execute_result"
    }
   ],
   "source": [
    "# Get the vbios version for the specified device\n",
    "def getvbios(devicenum):\n",
    "    cmd = [\"/opt/rocm/bin/rocm-smi\", \"-v\", \"-d\", str(devicenum)]\n",
    "    success, cout = _subprocess_helper(cmd)\n",
    "    if not success:\n",
    "        return \"N/A\"\n",
    "    searchstr = \"GPU[\"+str(devicenum)+\"]\"\n",
    "    for line in cout.split(\"\\n\"):\n",
    "        if line.startswith(searchstr):\n",
    "            tmp = line[len(searchstr):].strip()[1:]\n",
    "            pos = tmp.find(\":\")\n",
    "            return tmp[pos+1:].strip()\n",
    "    return \"\"\n",
    "\n",
    "getvbios(0)"
   ]
  },
  {
   "cell_type": "code",
   "execution_count": 9,
   "id": "12fca6f0-7d45-42a0-b56c-2ae007e661db",
   "metadata": {},
   "outputs": [
    {
     "data": {
      "text/plain": [
       "'113-D65209-063'"
      ]
     },
     "execution_count": 9,
     "metadata": {},
     "output_type": "execute_result"
    }
   ],
   "source": [
    "getvbios(2)"
   ]
  },
  {
   "cell_type": "code",
   "execution_count": 10,
   "id": "5f18de82-681f-4805-98ae-71fdf6a281e3",
   "metadata": {},
   "outputs": [
    {
     "data": {
      "text/plain": [
       "'0x740c'"
      ]
     },
     "execution_count": 10,
     "metadata": {},
     "output_type": "execute_result"
    }
   ],
   "source": [
    "def getgpuid(devicenum):\n",
    "    import re\n",
    "    name = \"\"\n",
    "    # We also use rocm-smi to get more info\n",
    "    cmd = [\"/opt/rocm/bin/rocm-smi\", \"-i\", \"-d\", str(devicenum)]\n",
    "    success, cout = _subprocess_helper(cmd)\n",
    "    if not success:\n",
    "        return \"N/A\"\n",
    "    searchstr = \"GPU[\"+str(devicenum)+\"]\"\n",
    "    for line in cout.split(\"\\n\"):\n",
    "        if line.startswith(searchstr):\n",
    "            line = line[len(searchstr):].strip()\n",
    "            line = re.sub(\":\", \"\", line)\n",
    "            line = re.sub(\"GPU ID\", \"\", line)\n",
    "            name += \" \" + line.strip()\n",
    "            name = name.replace(\" \", \"\")\n",
    "    return name\n",
    "\n",
    "getgpuid(0)"
   ]
  },
  {
   "cell_type": "code",
   "execution_count": 11,
   "id": "fedf1186-0a2c-4fb8-beda-2cd22e06c968",
   "metadata": {},
   "outputs": [
    {
     "data": {
      "text/plain": [
       "'0x740c'"
      ]
     },
     "execution_count": 11,
     "metadata": {},
     "output_type": "execute_result"
    }
   ],
   "source": [
    "getgpuid(7)"
   ]
  },
  {
   "cell_type": "code",
   "execution_count": 12,
   "id": "b38416f1-7e43-4529-b878-6e46e0970511",
   "metadata": {},
   "outputs": [
    {
     "data": {
      "text/plain": [
       "'Advanced Micro Devices, Inc. [AMD/ATI]Advanced Micro Devices, Inc. [AMD/ATI]Advanced Micro Devices, Inc. [AMD/ATI]Advanced Micro Devices, Inc. [AMD/ATI]ASPEED Graphics FamilyAdvanced Micro Devices, Inc. [AMD/ATI]Advanced Micro Devices, Inc. [AMD/ATI]Advanced Micro Devices, Inc. [AMD/ATI]Advanced Micro Devices, Inc. [AMD/ATI] 0x740c'"
      ]
     },
     "execution_count": 12,
     "metadata": {},
     "output_type": "execute_result"
    }
   ],
   "source": [
    "# Get the name of the device from lshw which has index devicenum\n",
    "def getdeviceinfo(devicenum):\n",
    "    import re\n",
    "    cmd = [\"lshw\", \"-C\", \"video\"]\n",
    "    success, cout = _subprocess_helper(cmd)\n",
    "    if not success:\n",
    "        return \"N/A\"\n",
    "    searchstr = \"-display\"\n",
    "    indices = []\n",
    "    name = \"\"\n",
    "    for idx, line in enumerate(cout.split(\"\\n\")):\n",
    "        if re.search(searchstr, line) != None:\n",
    "            indices.append(idx)\n",
    "    for idx, line in enumerate(cout.split(\"\\n\")):\n",
    "        if idx >= indices[devicenum]:\n",
    "            searchstr = \"product:\"\n",
    "            if re.search(searchstr, line) != None:\n",
    "                pos = line.find(\":\")\n",
    "                name += line[pos+1:].strip()\n",
    "    name += \" \" + getgpuid(devicenum)\n",
    "    return name\n",
    "\n",
    "getdeviceinfo(0)"
   ]
  },
  {
   "cell_type": "code",
   "execution_count": 13,
   "id": "ffa4b4b6-9cf2-400e-9e51-5e8d1ca5afca",
   "metadata": {},
   "outputs": [
    {
     "data": {
      "text/plain": [
       "'VRAM Total Memory (B) 6870269952'"
      ]
     },
     "execution_count": 13,
     "metadata": {},
     "output_type": "execute_result"
    }
   ],
   "source": [
    "# Get the vram for the specified device\n",
    "def getvram(devicenum):\n",
    "    import re\n",
    "    cmd = [\"/opt/rocm/bin/rocm-smi\", \"--showmeminfo\", \"vram\", \"-d\", str(devicenum)]\n",
    "    success, cout = _subprocess_helper(cmd)\n",
    "    if not success:\n",
    "        return \"N/A\"\n",
    "    searchstr = \"GPU[\"+str(devicenum)+\"]\"\n",
    "    for line in cout.split(\"\\n\"):\n",
    "        if line.startswith(searchstr):\n",
    "            line = line[len(searchstr):].strip()\n",
    "            prestring = \"vram :: total:\"\n",
    "            line = re.sub(\":\", \"\", line)\n",
    "            line = re.sub(\"vram\", \"\", line)\n",
    "            line = re.sub(\"total\", \"\", line)\n",
    "            pos = line.find(\"used\")\n",
    "            return line[:pos].strip()\n",
    "\n",
    "getvram(0)"
   ]
  },
  {
   "cell_type": "code",
   "execution_count": 14,
   "id": "af43e9ec-322a-4baa-b40d-c0d2682beece",
   "metadata": {},
   "outputs": [
    {
     "data": {
      "text/plain": [
       "''"
      ]
     },
     "execution_count": 14,
     "metadata": {},
     "output_type": "execute_result"
    }
   ],
   "source": [
    "# Get the performance level for the specified device\n",
    "def getperflevel(devicenum):\n",
    "    import re\n",
    "    cmd = [\"/opt/rocm/bin/rocm-smi\", \"-p\", \"-d\", str(devicenum)]\n",
    "    success, cout = _subprocess_helper(cmd)\n",
    "    if not success:\n",
    "        return \"N/A\"\n",
    "    searchstr = \"GPU[\"+str(devicenum)+\"]\"\n",
    "    for line in cout.split(\"\\n\"):\n",
    "        if line.startswith(searchstr):\n",
    "            line = line[len(searchstr):].strip()\n",
    "            skipstr = \"Current Performance Level \"\n",
    "            line = re.sub(\":\", \"\", line)[len(skipstr):].strip()\n",
    "            return line\n",
    "\n",
    "getperflevel(0)"
   ]
  },
  {
   "cell_type": "code",
   "execution_count": 15,
   "id": "b8c876b2-d0c9-487d-8924-b15c433a1d22",
   "metadata": {},
   "outputs": [
    {
     "data": {
      "text/plain": [
       "'1600Mhz'"
      ]
     },
     "execution_count": 15,
     "metadata": {},
     "output_type": "execute_result"
    }
   ],
   "source": [
    "# Get the memory clock for the specified device\n",
    "def getmclk(devicenum):\n",
    "    import re\n",
    "    cmd = [\"/opt/rocm/bin/rocm-smi\", \"--showclocks\", \"-d\", str(devicenum)]\n",
    "    success, cout = _subprocess_helper(cmd)\n",
    "    if not success:\n",
    "        return \"N/A\"\n",
    "    searchstr = \"mclk\"\n",
    "    for line in cout.split(\"\\n\"):\n",
    "        m = re.search(searchstr, line)\n",
    "        if m != None:\n",
    "            p0 = line.find(\"(\")\n",
    "            p1 = line.find(\")\")\n",
    "            return line[p0+1:p1]\n",
    "\n",
    "getmclk(7)"
   ]
  },
  {
   "cell_type": "code",
   "execution_count": 16,
   "id": "f6f474f0-a1dc-4bd2-a0e9-4febcb7b8379",
   "metadata": {},
   "outputs": [
    {
     "data": {
      "text/plain": [
       "'800Mhz'"
      ]
     },
     "execution_count": 16,
     "metadata": {},
     "output_type": "execute_result"
    }
   ],
   "source": [
    "# Get the system clock for the specified device\n",
    "def getsclk(devicenum):\n",
    "    import re\n",
    "    cmd = [\"/opt/rocm/bin/rocm-smi\", \"--showclocks\", \"-d\", str(devicenum)]\n",
    "    success, cout = _subprocess_helper(cmd)\n",
    "    if not success:\n",
    "        return \"N/A\"\n",
    "    searchstr = \"sclk\"\n",
    "    for line in cout.split(\"\\n\"):\n",
    "        m = re.search(searchstr, line)\n",
    "        if m != None:\n",
    "            p0 = line.find(\"(\")\n",
    "            p1 = line.find(\")\")\n",
    "            return line[p0+1:p1]\n",
    "        \n",
    "getsclk(0)"
   ]
  },
  {
   "cell_type": "code",
   "execution_count": 17,
   "id": "9cd10a95-7108-41a6-a8fa-3b247e958a13",
   "metadata": {},
   "outputs": [],
   "source": [
    "# Need to add checks for other gpuid\n",
    "def getbandwidth(devicenum):\n",
    "    gpuid = getgpuid(devicenum)\n",
    "    if gpuid == \"0x66af\":\n",
    "        # radeon7: float: 13.8 TFLOPs, double: 3.46 TFLOPs, 1024 GB/s\n",
    "        return (13.8, 3.46, 1024)\n",
    "\n",
    "getbandwidth(0)"
   ]
  },
  {
   "cell_type": "code",
   "execution_count": null,
   "id": "08d94d22-0dd3-4577-aca6-f40130f072d2",
   "metadata": {},
   "outputs": [],
   "source": []
  }
 ],
 "metadata": {
  "kernelspec": {
   "display_name": "Python 3.9 (venv)",
   "language": "python",
   "name": "venv_py39"
  },
  "language_info": {
   "codemirror_mode": {
    "name": "ipython",
    "version": 3
   },
   "file_extension": ".py",
   "mimetype": "text/x-python",
   "name": "python",
   "nbconvert_exporter": "python",
   "pygments_lexer": "ipython3",
   "version": "3.9.13"
  }
 },
 "nbformat": 4,
 "nbformat_minor": 5
}
