{
 "cells": [
  {
   "cell_type": "markdown",
   "id": "c14cccaa-d6ee-47d2-870b-f4f1aeb98932",
   "metadata": {},
   "source": [
    "# ChatGPT Code Completion Example\n",
    "Today, I've tried out chatGPT, and tested its code completion feature. Given prompts to write a code as a comment, chatGPT ponders about a minute and spitted out code.\n",
    "Quality was impressive. The site says, Python code completion is most advanced, and I had a chance to test out Javascript and html; it seems Python code was a lot better than Javascript one.\n",
    "Here are couple of examples I've tried. They are regular coding interview questions. CG understands natural language prompt, and generates full working code, even with functions and main."
   ]
  },
  {
   "cell_type": "markdown",
   "id": "11490c72-52b4-49c1-ba8c-7e8b35d57a60",
   "metadata": {},
   "source": [
    "**Prompt given:**\n",
    "```\n",
    "\"\"\"\n",
    "1. Given a map of land and ocean in two-dimensional integer array\n",
    "2. 1 is land, 0 is water\n",
    "3. Count the number of islands. Islands are defined as a piece of land wholly surrounded by water.\n",
    "\"\"\"\n",
    "```"
   ]
  },
  {
   "cell_type": "markdown",
   "id": "fe939a8d-e83b-441a-96b2-137748032553",
   "metadata": {},
   "source": [
    "**Generated code:**"
   ]
  },
  {
   "cell_type": "code",
   "execution_count": 2,
   "id": "2b55fe68-cb28-4897-b312-9fb35e85b08c",
   "metadata": {},
   "outputs": [
    {
     "name": "stdout",
     "output_type": "stream",
     "text": [
      "3\n"
     ]
    }
   ],
   "source": [
    "def count_islands(map):\n",
    "    if not map:\n",
    "        return 0\n",
    "    count = 0\n",
    "    for i in range(len(map)):\n",
    "        for j in range(len(map[0])):\n",
    "            if map[i][j] == 1:\n",
    "                count += 1\n",
    "                dfs(map, i, j)\n",
    "    return count\n",
    "\n",
    "def dfs(map, i, j):\n",
    "    if i < 0 or i >= len(map) or j < 0 or j >= len(map[0]) or map[i][j] != 1:\n",
    "        return\n",
    "    map[i][j] = -1\n",
    "    dfs(map, i + 1, j)\n",
    "    dfs(map, i - 1, j)\n",
    "    dfs(map, i, j + 1)\n",
    "    dfs(map, i, j - 1)\n",
    "\n",
    "map = [[1, 1, 0, 0, 0],\n",
    "       [0, 1, 0, 0, 1],\n",
    "       [1, 0, 1, 1, 1],\n",
    "       [0, 0, 0, 0, 0]]\n",
    "print(count_islands(map))\n"
   ]
  },
  {
   "cell_type": "markdown",
   "id": "414517b3-5434-40c4-b983-983d95ba71eb",
   "metadata": {},
   "source": [
    "**Prompt given:**\n",
    "```\n",
    "\"\"\"\n",
    "1. Given a graph\n",
    "2. Find the minimum spanning tree\n",
    "\"\"\"\n",
    "```"
   ]
  },
  {
   "cell_type": "markdown",
   "id": "f8e9e01b-f54d-4bc8-b826-b5a64f4b2b41",
   "metadata": {},
   "source": [
    "**Generated code:**"
   ]
  },
  {
   "cell_type": "code",
   "execution_count": 3,
   "id": "1aa715de-f8fa-4bd2-8387-270f96cb5ea3",
   "metadata": {},
   "outputs": [
    {
     "name": "stdout",
     "output_type": "stream",
     "text": [
      "1 -- 3 == 2\n",
      "2 -- 3 == 4\n",
      "0 -- 3 == 5\n"
     ]
    }
   ],
   "source": [
    "from collections import defaultdict\n",
    "\n",
    "class Graph:\n",
    "    def __init__(self, vertices):\n",
    "        self.V = vertices\n",
    "        self.graph = []\n",
    "\n",
    "    def addEdge(self, u, v, w):\n",
    "        self.graph.append([u, v, w])\n",
    "\n",
    "    def find(self, parent, i):\n",
    "        if parent[i] == i:\n",
    "            return i\n",
    "        return self.find(parent, parent[i])\n",
    "\n",
    "    def union(self, parent, rank, x, y):\n",
    "        xroot = self.find(parent, x)\n",
    "        yroot = self.find(parent, y)\n",
    "\n",
    "        if rank[xroot] < rank[yroot]:\n",
    "            parent[xroot] = yroot\n",
    "        elif rank[xroot] > rank[yroot]:\n",
    "            parent[yroot] = xroot\n",
    "        else:\n",
    "            parent[yroot] = xroot\n",
    "            rank[xroot] += 1\n",
    "\n",
    "    def KruskalMST(self):\n",
    "        result = []\n",
    "        i = 0\n",
    "        e = 0\n",
    "        self.graph = sorted(self.graph, key=lambda item: item[2])\n",
    "        parent = []\n",
    "        rank = []\n",
    "\n",
    "        for node in range(self.V):\n",
    "            parent.append(node)\n",
    "            rank.append(0)\n",
    "\n",
    "        while e < self.V - 1:\n",
    "            u, v, w = self.graph[i]\n",
    "            i += 1\n",
    "            x = self.find(parent, u)\n",
    "            y = self.find(parent, v)\n",
    "\n",
    "            if x != y:\n",
    "                e += 1\n",
    "                result.append([u, v, w])\n",
    "                self.union(parent, rank, x, y)\n",
    "\n",
    "        for u, v, weight in result:\n",
    "            print(\"%d -- %d == %d\" % (u, v, weight))\n",
    "\n",
    "g = Graph(4)\n",
    "g.addEdge(0, 1, 10)\n",
    "g.addEdge(0, 2, 6)\n",
    "g.addEdge(0, 3, 5)\n",
    "# g.addEdge(1, 3, 15)\n",
    "g.addEdge(1, 3, 2)\n",
    "g.addEdge(2, 3, 4)\n",
    "\n",
    "g.KruskalMST()\n"
   ]
  },
  {
   "cell_type": "markdown",
   "id": "250189ce-5787-425e-86cf-b4613971e18b",
   "metadata": {},
   "source": [
    "**Impressive!!**"
   ]
  },
  {
   "cell_type": "code",
   "execution_count": null,
   "id": "6aeb7a87-4f4f-44e7-b1ff-ca404a949bca",
   "metadata": {},
   "outputs": [],
   "source": []
  }
 ],
 "metadata": {
  "kernelspec": {
   "display_name": "Python 3.9 (venv)",
   "language": "python",
   "name": "venv_py39"
  },
  "language_info": {
   "codemirror_mode": {
    "name": "ipython",
    "version": 3
   },
   "file_extension": ".py",
   "mimetype": "text/x-python",
   "name": "python",
   "nbconvert_exporter": "python",
   "pygments_lexer": "ipython3",
   "version": "3.9.13"
  }
 },
 "nbformat": 4,
 "nbformat_minor": 5
}
