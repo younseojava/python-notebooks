{
 "cells": [
  {
   "cell_type": "markdown",
   "id": "f995b7aa-b0e5-423d-91a9-e9ca29ff972c",
   "metadata": {},
   "source": [
    "## Monad test out\n",
    "Today, I ran into `monad` while reading Matthew Rocklin's blog: \"Write Dumb Code\" https://matthewrocklin.com/write-dumb-code.html, where he mentions as you progress as developer, you simplify the code that finally leads you to the monad. I got interested and looked it up. And found this blog by Philip Williams:\n",
    "- https://www.philliams.com/monads-in-python/\n",
    "This is for testing out the codes."
   ]
  },
  {
   "cell_type": "markdown",
   "id": "db13c0e2-9abd-4f62-995a-1cb8fd4649e0",
   "metadata": {},
   "source": [
    "In monad, `unit` function corresponds to the initializer.\n",
    "<br> And there's `bind` function that describes the monad's behavior, which returns the object itself."
   ]
  },
  {
   "cell_type": "code",
   "execution_count": 2,
   "id": "81671435-9763-49c9-a852-51c9b729bc93",
   "metadata": {},
   "outputs": [],
   "source": [
    "from collections.abc import Callable\n",
    "\n",
    "\n",
    "class MaybeMonad:\n",
    "    def __init__(self, value: object = None, contains_value: bool = True):\n",
    "        self.value = value\n",
    "        self.contains_value = contains_value\n",
    "    \n",
    "    def bind(self, f: Callable) -> 'MaybeMonad':\n",
    "        if not self.contains_value:\n",
    "            return MaybeMonad(None, contains_value=False)  # returns empty object\n",
    "        try:\n",
    "            result = f(self.value)     # execute the bind function, if no value, it'll throw up\n",
    "            return MaybeMonad(result)  # if success, return the result value as another monad\n",
    "        except:\n",
    "            return MaybeMonad(None, contains_value=False)  # gracefully exits for the failing case"
   ]
  },
  {
   "cell_type": "markdown",
   "id": "b53c1efa-a8c0-4a9d-95fb-919d99dd2265",
   "metadata": {},
   "source": [
    "Now, how to use this `Maybe Monad` to make a bunch of computations..."
   ]
  },
  {
   "cell_type": "code",
   "execution_count": 3,
   "id": "6db17881-5341-417f-8670-ee1bdbe74721",
   "metadata": {},
   "outputs": [
    {
     "name": "stdout",
     "output_type": "stream",
     "text": [
      "100\n",
      "True\n"
     ]
    }
   ],
   "source": [
    "import numpy as np\n",
    "# maybe_monad import MaybeMonad\n",
    "\n",
    "value = 100\n",
    "m1 = MaybeMonad(value)\n",
    "print(m1.value)\n",
    "print(m1.contains_value)"
   ]
  },
  {
   "cell_type": "code",
   "execution_count": 4,
   "id": "555c6699-2e68-4a64-ba42-9d36d0c086b8",
   "metadata": {},
   "outputs": [
    {
     "name": "stdout",
     "output_type": "stream",
     "text": [
      "10.0\n"
     ]
    }
   ],
   "source": [
    "m2 = m1.bind(np.sqrt)   # typical pattern of functional programming.. chain up operations\n",
    "print(m2.value)"
   ]
  },
  {
   "cell_type": "code",
   "execution_count": 5,
   "id": "07acba88-deb7-438c-9d32-e7335262160f",
   "metadata": {},
   "outputs": [
    {
     "name": "stdout",
     "output_type": "stream",
     "text": [
      "True\n",
      "inf\n"
     ]
    },
    {
     "name": "stderr",
     "output_type": "stream",
     "text": [
      "/tmp/ipykernel_1063720/1906283065.py:1: RuntimeWarning: divide by zero encountered in scalar divide\n",
      "  m3 = m2.bind(lambda x : x / 0)   # divide by zero\n"
     ]
    }
   ],
   "source": [
    "m3 = m2.bind(lambda x : x / 0)   # divide by zero\n",
    "print(m3.contains_value)\n",
    "print(m3.value)"
   ]
  },
  {
   "cell_type": "code",
   "execution_count": 6,
   "id": "909115f3-bf70-4e6e-a55f-4fa2ebe5e2a5",
   "metadata": {},
   "outputs": [
    {
     "name": "stdout",
     "output_type": "stream",
     "text": [
      "False\n",
      "None\n"
     ]
    }
   ],
   "source": [
    "def exc(x):\n",
    "    raise Exception('Failed')\n",
    "    \n",
    "m4 = m3.bind(exc)\n",
    "print(m4.contains_value)\n",
    "print(m4.value)"
   ]
  },
  {
   "cell_type": "markdown",
   "id": "29c4c0a1-d0bd-4708-b217-23c85ebf5ee7",
   "metadata": {},
   "source": [
    "Now, with exc bind function, we can catch the exception, and keep the state of value as None.\n",
    "<br> IOW, all of try-catch logic is captured inside of `bind` method, and we can stream line the operations w/o worrying about exceptional cases. "
   ]
  },
  {
   "cell_type": "markdown",
   "id": "9e8243cc-8761-44b1-9a2c-3c3247007817",
   "metadata": {},
   "source": [
    "## Failure Monad"
   ]
  },
  {
   "cell_type": "code",
   "execution_count": 7,
   "id": "f0335cf8-a9c3-4d89-ae91-e320a0737b6a",
   "metadata": {},
   "outputs": [],
   "source": [
    "from collections.abc import Callable\n",
    "from typing import Dict\n",
    "import traceback\n",
    "\n",
    "class FailureMonad:\n",
    "    def __init__(self, value: object = None, error_status: Dict = None):\n",
    "        self.value = value\n",
    "        self.error_status = error_status\n",
    "        \n",
    "    def bind(self, f: Callable, *args, **kwargs) -> 'FailureMonad':   # note the pattern of returning self\n",
    "        if self.error_status:\n",
    "            return FailureMonad(None, error_status=self.error_status)  # when error, return that error\n",
    "        \n",
    "        # else call the function\n",
    "        try:\n",
    "            result = f(self.value, *args, **kwargs)\n",
    "            return FailureMonad(result)\n",
    "        \n",
    "        except Exception as e:\n",
    "            failure_status = {\n",
    "                'trace': traceback.format_exc(),\n",
    "                'exc': e,\n",
    "                'args': args,\n",
    "                'kwargs': kwargs\n",
    "            }\n",
    "            \n",
    "            return FailureMonad(None, error_status=failure_status)   # return details of error\n",
    "        "
   ]
  },
  {
   "cell_type": "markdown",
   "id": "b4d6939a-b3fc-478b-abef-33c5948ec761",
   "metadata": {},
   "source": [
    "Now, test it out:"
   ]
  },
  {
   "cell_type": "code",
   "execution_count": 8,
   "id": "211be1a5-0b50-4653-a5e2-fcc27d58cea4",
   "metadata": {},
   "outputs": [
    {
     "name": "stdout",
     "output_type": "stream",
     "text": [
      "100\n",
      "10.0\n",
      "13.0\n",
      "None\n",
      "{'trace': 'Traceback (most recent call last):\\n  File \"/tmp/ipykernel_1063720/1657185084.py\", line 16, in bind\\n    result = f(self.value, *args, **kwargs)\\n  File \"/tmp/ipykernel_1063720/3988368452.py\", line 8, in exc\\n    raise Exception(\\'Failed\\')\\nException: Failed\\n', 'exc': Exception('Failed'), 'args': (), 'kwargs': {}}\n"
     ]
    }
   ],
   "source": [
    "import numpy as np\n",
    "#from failure_monad import FailureMonad\n",
    "\n",
    "def dummy_func(a, b, c=3):\n",
    "    return a + b + c\n",
    "\n",
    "def exc(x):\n",
    "    raise Exception('Failed')\n",
    "    \n",
    "value = 100\n",
    "m1 = FailureMonad(value)\n",
    "print(m1.value)\n",
    "\n",
    "m2 = m1.bind(np.sqrt)\n",
    "print(m2.value)\n",
    "\n",
    "m3 = m2.bind(dummy_func, 1, c=2)\n",
    "print(m3.value)     # 13.0\n",
    "\n",
    "m4 = m3.bind(exc)\n",
    "print(m4.value)  # None\n",
    "print(m4.error_status)"
   ]
  },
  {
   "cell_type": "markdown",
   "id": "f30396b7-337b-4ca0-8923-279acf42f212",
   "metadata": {},
   "source": [
    "In above, `exc` bind function fails due to missing positional argument `b`. Even with this exception, code sequence proceeds.\n",
    "Also, you can easily add up `bind` functions to handle different exceptions:\n",
    "```\n",
    "m = FailureMonad(...)\n",
    "\n",
    "m = m.bind(func_1)\n",
    "m = m.bind(func_2)\n",
    "m = m.bind(func_3)\n",
    "\n",
    "if m.error_status:\n",
    "    e = m.error_status['exc']   # if exception is non-null\n",
    "    if isinstance(e, ...):\n",
    "        do_something()\n",
    "    elif isinstance(e, ...):\n",
    "        do_something_else()\n",
    "    else:\n",
    "        do_thing()\n",
    "```"
   ]
  },
  {
   "cell_type": "markdown",
   "id": "b0f05f2f-a065-42fc-9b77-d9343f1b53b2",
   "metadata": {},
   "source": [
    "## The Lazy Monad\n",
    "Some useful way to modify the behavior of the program, i.e. creating a lazily evaluated pipeline of operations."
   ]
  },
  {
   "cell_type": "code",
   "execution_count": 11,
   "id": "e8394213-3069-44a7-8fc0-25d00c0803dd",
   "metadata": {},
   "outputs": [],
   "source": [
    "class LazyMonad:\n",
    "    def __init__(self, value: object):\n",
    "        if isinstance(value, Callable):  # if the value is function, store the function\n",
    "            self.compute = value\n",
    "        else:\n",
    "            def return_val():\n",
    "                return value\n",
    "            self.compute = return_val    # if number, store the function that returns value\n",
    "                                         # when these are chained, it will become lazy evaluation\n",
    "    \n",
    "    def bind(self, f: Callable, *args, **kwargs) -> 'LazyMonad':\n",
    "        def f_compute():\n",
    "            return f(self.compute(), *args, **kwargs)\n",
    "        \n",
    "        return LazyMonad(f_compute)"
   ]
  },
  {
   "cell_type": "code",
   "execution_count": 12,
   "id": "0bc07b4d-dc61-4fb6-8e23-81d143878f3f",
   "metadata": {},
   "outputs": [
    {
     "name": "stdout",
     "output_type": "stream",
     "text": [
      "Start\n",
      "After init\n",
      "After 1\n",
      "After 2\n",
      "After 3\n",
      "dummy_1 : 100\n",
      "dummy_2 : 100\n",
      "dummy_3 : 100\n",
      "100\n",
      "After Compute\n"
     ]
    }
   ],
   "source": [
    "import numpy as np\n",
    "# from lazy_monad import LazyMonad\n",
    "\n",
    "def dummy_func1(e):\n",
    "    print(f'dummy_1 : {e}')\n",
    "    return e\n",
    "\n",
    "def dummy_func2(e):\n",
    "    print(f'dummy_2 : {e}')\n",
    "    return e\n",
    "\n",
    "def dummy_func3(e):\n",
    "    print(f'dummy_3 : {e}')\n",
    "    return e\n",
    "\n",
    "print('Start')\n",
    "\n",
    "value = 100\n",
    "m1 = LazyMonad(value)\n",
    "print('After init')\n",
    "\n",
    "m2 = m1.bind(dummy_func1)\n",
    "print('After 1')\n",
    "\n",
    "m3 = m2.bind(dummy_func2)\n",
    "print('After 2')\n",
    "\n",
    "m4 = m3.bind(dummy_func3)\n",
    "print('After 3')\n",
    "\n",
    "print(m4.compute())\n",
    "\n",
    "print('After Compute')\n"
   ]
  },
  {
   "cell_type": "markdown",
   "id": "f96a211a-22ca-4601-96a5-b9384bb4b9cc",
   "metadata": {},
   "source": [
    "With actual computations, this is exactly what `Dask` is doing with delayed computation."
   ]
  },
  {
   "cell_type": "code",
   "execution_count": 14,
   "id": "25b2dce1-4d14-4b0d-9fe3-07298b2ac771",
   "metadata": {},
   "outputs": [
    {
     "name": "stdout",
     "output_type": "stream",
     "text": [
      "Start\n",
      "After init\n",
      "After 1\n",
      "After 2\n",
      "After 3\n",
      "214\n",
      "After Compute\n"
     ]
    }
   ],
   "source": [
    "from time import sleep\n",
    "\n",
    "def increment(e):\n",
    "    sleep(1)\n",
    "    return e + 1\n",
    "\n",
    "def add(a, b):\n",
    "    sleep(2)\n",
    "    return a + b\n",
    "\n",
    "def double(e):\n",
    "    sleep(3)\n",
    "    return e * 2\n",
    "\n",
    "print('Start')\n",
    "\n",
    "x = 100\n",
    "m1 = LazyMonad(x)\n",
    "print('After init')\n",
    "\n",
    "m2 = m1.bind(increment)\n",
    "print('After 1')  # 101\n",
    "\n",
    "m3 = m2.bind(add, 6)\n",
    "print('After 2')  # 107\n",
    "\n",
    "m4 = m3.bind(double)\n",
    "print('After 3')  # 214\n",
    "\n",
    "print(m4.compute())\n",
    "\n",
    "# after 6 seconds\n",
    "print('After Compute')"
   ]
  },
  {
   "cell_type": "markdown",
   "id": "7e387ec9-53ca-4487-a2e2-b2395a664a27",
   "metadata": {},
   "source": [
    "### Take-away\n",
    "- Unit : Take a value and turn it into a Monad\n",
    "- Bind : Take a Monad, apply a function to it and return a new Monad\n",
    "\n",
    "### Ref\n",
    "- Eric Lippert's blog: https://ericlippert.com/2013/02/21/monads-part-one/\n",
    "- Arit Bhargava: \"Functors, Applicatives and Monads in Pictures\" https://adit.io/posts/2013-04-17-functors,_applicatives,_and_monads_in_pictures.html\n",
    "- O'Reilly book: Real World Haskell, Bryan O'Sullivan"
   ]
  },
  {
   "cell_type": "code",
   "execution_count": null,
   "id": "e740d74e-7e1c-43f6-97f5-f43bd2cffc4c",
   "metadata": {},
   "outputs": [],
   "source": []
  }
 ],
 "metadata": {
  "kernelspec": {
   "display_name": "Python 3.9 (venv)",
   "language": "python",
   "name": "venv_py39"
  },
  "language_info": {
   "codemirror_mode": {
    "name": "ipython",
    "version": 3
   },
   "file_extension": ".py",
   "mimetype": "text/x-python",
   "name": "python",
   "nbconvert_exporter": "python",
   "pygments_lexer": "ipython3",
   "version": "3.9.13"
  }
 },
 "nbformat": 4,
 "nbformat_minor": 5
}
